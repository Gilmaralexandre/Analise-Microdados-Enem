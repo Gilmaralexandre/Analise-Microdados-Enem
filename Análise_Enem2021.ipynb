{
  "cells": [
    {
      "cell_type": "markdown",
      "metadata": {
        "id": "view-in-github",
        "colab_type": "text"
      },
      "source": [
        "<a href=\"https://colab.research.google.com/github/Gilmaralexandre/Analise-Microdados-Enem/blob/main/An%C3%A1lise_Enem2021.ipynb\" target=\"_parent\"><img src=\"https://colab.research.google.com/assets/colab-badge.svg\" alt=\"Open In Colab\"/></a>"
      ]
    },
    {
      "cell_type": "markdown",
      "id": "4dacc56d",
      "metadata": {
        "id": "4dacc56d"
      },
      "source": [
        "# Análise dos Microdados do Enem 2021"
      ]
    },
    {
      "cell_type": "markdown",
      "source": [
        "## Compreensão do contexto do projeto"
      ],
      "metadata": {
        "id": "SE60_rgt_F6l"
      },
      "id": "SE60_rgt_F6l"
    },
    {
      "cell_type": "markdown",
      "source": [
        "### Dados disponíveis no site: dados.gov.br/enem (é necessário escolher qual o ano que deseja analisar.)\n",
        "\n",
        "- O projeto tem alguns desafios, como:\n",
        "\n",
        "1.  Tamanho do dataset, mais de 2 milhões de linhas e mais de 70 colunas\n",
        "2.  Tirar algumas informações sobre carateristicas dos candidatos do ensino médio.\n",
        "3.   Observar se questões sociais tem influencia no conjunto de dados como localidade, sexo, estado civil, cor da pele.\n",
        "4.   Extrair informações confiaveis, isso necessita de uma boa limpeza e manipulação dos dados.\n",
        "\n",
        "\n",
        "\n",
        "\n"
      ],
      "metadata": {
        "id": "myppdvDp_UNI"
      },
      "id": "myppdvDp_UNI"
    },
    {
      "cell_type": "markdown",
      "source": [
        "## Planejamento e coleta dos dados e informações necessárias."
      ],
      "metadata": {
        "id": "3nUZ1ux1BqAo"
      },
      "id": "3nUZ1ux1BqAo"
    },
    {
      "cell_type": "code",
      "execution_count": 3,
      "id": "2349eb21",
      "metadata": {
        "id": "2349eb21"
      },
      "outputs": [],
      "source": [
        "import pandas as pd\n",
        "import numpy as np\n",
        "import matplotlib.pyplot as plt\n",
        "import seaborn as sns\n",
        "\n",
        "%matplotlib inline"
      ]
    },
    {
      "cell_type": "code",
      "source": [
        "from google.colab import drive\n",
        "drive.mount('/content/drive')"
      ],
      "metadata": {
        "colab": {
          "base_uri": "https://localhost:8080/"
        },
        "id": "b0bxnKL75EhG",
        "outputId": "948627ab-359a-4b92-99c7-157d3f8177d4"
      },
      "id": "b0bxnKL75EhG",
      "execution_count": 4,
      "outputs": [
        {
          "output_type": "stream",
          "name": "stdout",
          "text": [
            "Mounted at /content/drive\n"
          ]
        }
      ]
    },
    {
      "cell_type": "code",
      "execution_count": 5,
      "id": "bd6a92a5",
      "metadata": {
        "id": "bd6a92a5"
      },
      "outputs": [],
      "source": [
        "\n",
        "microdados = pd.read_csv('/content/drive/MyDrive/analise_dados/Dados_Enem/DADOS/MICRODADOS_ENEM_2021.csv', sep = ';', encoding = 'ISO-8859-1')"
      ]
    },
    {
      "cell_type": "code",
      "execution_count": 6,
      "id": "56988971",
      "metadata": {
        "colab": {
          "base_uri": "https://localhost:8080/"
        },
        "id": "56988971",
        "outputId": "cf0b5164-126d-47b2-f8dd-fa2ab263795c"
      },
      "outputs": [
        {
          "output_type": "execute_result",
          "data": {
            "text/plain": [
              "(2685053, 76)"
            ]
          },
          "metadata": {},
          "execution_count": 6
        }
      ],
      "source": [
        "microdados.shape"
      ]
    },
    {
      "cell_type": "code",
      "execution_count": 7,
      "id": "2e979b35",
      "metadata": {
        "colab": {
          "base_uri": "https://localhost:8080/"
        },
        "id": "2e979b35",
        "outputId": "69dc046e-7b71-4d63-a076-e2b669680297"
      },
      "outputs": [
        {
          "output_type": "execute_result",
          "data": {
            "text/plain": [
              "Index(['NU_INSCRICAO', 'NU_ANO', 'TP_FAIXA_ETARIA', 'TP_SEXO',\n",
              "       'TP_ESTADO_CIVIL', 'TP_COR_RACA', 'TP_NACIONALIDADE', 'TP_ST_CONCLUSAO',\n",
              "       'TP_ANO_CONCLUIU', 'TP_ESCOLA', 'TP_ENSINO', 'IN_TREINEIRO',\n",
              "       'CO_MUNICIPIO_ESC', 'NO_MUNICIPIO_ESC', 'CO_UF_ESC', 'SG_UF_ESC',\n",
              "       'TP_DEPENDENCIA_ADM_ESC', 'TP_LOCALIZACAO_ESC', 'TP_SIT_FUNC_ESC',\n",
              "       'CO_MUNICIPIO_PROVA', 'NO_MUNICIPIO_PROVA', 'CO_UF_PROVA',\n",
              "       'SG_UF_PROVA', 'TP_PRESENCA_CN', 'TP_PRESENCA_CH', 'TP_PRESENCA_LC',\n",
              "       'TP_PRESENCA_MT', 'CO_PROVA_CN', 'CO_PROVA_CH', 'CO_PROVA_LC',\n",
              "       'CO_PROVA_MT', 'NU_NOTA_CN', 'NU_NOTA_CH', 'NU_NOTA_LC', 'NU_NOTA_MT',\n",
              "       'TX_RESPOSTAS_CN', 'TX_RESPOSTAS_CH', 'TX_RESPOSTAS_LC',\n",
              "       'TX_RESPOSTAS_MT', 'TP_LINGUA', 'TX_GABARITO_CN', 'TX_GABARITO_CH',\n",
              "       'TX_GABARITO_LC', 'TX_GABARITO_MT', 'TP_STATUS_REDACAO',\n",
              "       'NU_NOTA_COMP1', 'NU_NOTA_COMP2', 'NU_NOTA_COMP3', 'NU_NOTA_COMP4',\n",
              "       'NU_NOTA_COMP5', 'NU_NOTA_REDACAO', 'Q001', 'Q002', 'Q003', 'Q004',\n",
              "       'Q005', 'Q006', 'Q007', 'Q008', 'Q009', 'Q010', 'Q011', 'Q012', 'Q013',\n",
              "       'Q014', 'Q015', 'Q016', 'Q017', 'Q018', 'Q019', 'Q020', 'Q021', 'Q022',\n",
              "       'Q023', 'Q024', 'Q025'],\n",
              "      dtype='object')"
            ]
          },
          "metadata": {},
          "execution_count": 7
        }
      ],
      "source": [
        "microdados.columns"
      ]
    },
    {
      "cell_type": "code",
      "execution_count": 8,
      "id": "87690636",
      "metadata": {
        "id": "87690636"
      },
      "outputs": [],
      "source": [
        "colunas_selecionadas = ['TP_FAIXA_ETARIA','TP_SEXO',\n",
        "       'TP_ESTADO_CIVIL', 'TP_COR_RACA', 'TP_NACIONALIDADE', 'TP_ST_CONCLUSAO',\n",
        "       'TP_ANO_CONCLUIU', 'TP_ESCOLA', 'TP_ENSINO', 'IN_TREINEIRO',\n",
        "       'CO_MUNICIPIO_ESC', 'NO_MUNICIPIO_ESC', 'CO_UF_ESC', 'SG_UF_ESC',\n",
        "       'TP_DEPENDENCIA_ADM_ESC', 'TP_LOCALIZACAO_ESC', 'TP_SIT_FUNC_ESC',\n",
        "       'CO_MUNICIPIO_PROVA', 'NO_MUNICIPIO_PROVA', 'CO_UF_PROVA',\n",
        "       'SG_UF_PROVA', 'TP_PRESENCA_CN', 'TP_PRESENCA_CH', 'TP_PRESENCA_LC',\n",
        "       'TP_PRESENCA_MT', 'CO_PROVA_CN', 'CO_PROVA_CH', 'CO_PROVA_LC',\n",
        "       'CO_PROVA_MT', 'NU_NOTA_CN', 'NU_NOTA_CH', 'NU_NOTA_LC', 'NU_NOTA_MT',\n",
        "       'TX_RESPOSTAS_CN', 'TX_RESPOSTAS_CH', 'TX_RESPOSTAS_LC',\n",
        "       'TX_RESPOSTAS_MT', 'TP_LINGUA', 'TX_GABARITO_CN', 'TX_GABARITO_CH',\n",
        "       'TX_GABARITO_LC', 'TX_GABARITO_MT', 'TP_STATUS_REDACAO',\n",
        "       'NU_NOTA_COMP1', 'NU_NOTA_COMP2', 'NU_NOTA_COMP3', 'NU_NOTA_COMP4',\n",
        "       'NU_NOTA_COMP5', 'NU_NOTA_REDACAO']"
      ]
    },
    {
      "cell_type": "code",
      "execution_count": 9,
      "id": "317b4c60",
      "metadata": {
        "id": "317b4c60"
      },
      "outputs": [],
      "source": [
        "df = microdados.filter(items = colunas_selecionadas)"
      ]
    },
    {
      "cell_type": "markdown",
      "id": "034146d0",
      "metadata": {
        "id": "034146d0"
      },
      "source": [
        "## Conhecendo o conjunto de dados"
      ]
    },
    {
      "cell_type": "code",
      "source": [
        "df.info()"
      ],
      "metadata": {
        "colab": {
          "base_uri": "https://localhost:8080/"
        },
        "id": "NrvBE9t6TlOs",
        "outputId": "e3ef803e-c3cc-4d1e-d03b-fc98bf7e8b21"
      },
      "id": "NrvBE9t6TlOs",
      "execution_count": 10,
      "outputs": [
        {
          "output_type": "stream",
          "name": "stdout",
          "text": [
            "<class 'pandas.core.frame.DataFrame'>\n",
            "RangeIndex: 2685053 entries, 0 to 2685052\n",
            "Data columns (total 49 columns):\n",
            " #   Column                  Dtype  \n",
            "---  ------                  -----  \n",
            " 0   TP_FAIXA_ETARIA         int64  \n",
            " 1   TP_SEXO                 object \n",
            " 2   TP_ESTADO_CIVIL         int64  \n",
            " 3   TP_COR_RACA             int64  \n",
            " 4   TP_NACIONALIDADE        int64  \n",
            " 5   TP_ST_CONCLUSAO         int64  \n",
            " 6   TP_ANO_CONCLUIU         int64  \n",
            " 7   TP_ESCOLA               int64  \n",
            " 8   TP_ENSINO               float64\n",
            " 9   IN_TREINEIRO            int64  \n",
            " 10  CO_MUNICIPIO_ESC        float64\n",
            " 11  NO_MUNICIPIO_ESC        object \n",
            " 12  CO_UF_ESC               float64\n",
            " 13  SG_UF_ESC               object \n",
            " 14  TP_DEPENDENCIA_ADM_ESC  float64\n",
            " 15  TP_LOCALIZACAO_ESC      float64\n",
            " 16  TP_SIT_FUNC_ESC         float64\n",
            " 17  CO_MUNICIPIO_PROVA      int64  \n",
            " 18  NO_MUNICIPIO_PROVA      object \n",
            " 19  CO_UF_PROVA             int64  \n",
            " 20  SG_UF_PROVA             object \n",
            " 21  TP_PRESENCA_CN          int64  \n",
            " 22  TP_PRESENCA_CH          int64  \n",
            " 23  TP_PRESENCA_LC          int64  \n",
            " 24  TP_PRESENCA_MT          int64  \n",
            " 25  CO_PROVA_CN             float64\n",
            " 26  CO_PROVA_CH             float64\n",
            " 27  CO_PROVA_LC             float64\n",
            " 28  CO_PROVA_MT             float64\n",
            " 29  NU_NOTA_CN              float64\n",
            " 30  NU_NOTA_CH              float64\n",
            " 31  NU_NOTA_LC              float64\n",
            " 32  NU_NOTA_MT              float64\n",
            " 33  TX_RESPOSTAS_CN         object \n",
            " 34  TX_RESPOSTAS_CH         object \n",
            " 35  TX_RESPOSTAS_LC         object \n",
            " 36  TX_RESPOSTAS_MT         object \n",
            " 37  TP_LINGUA               int64  \n",
            " 38  TX_GABARITO_CN          object \n",
            " 39  TX_GABARITO_CH          object \n",
            " 40  TX_GABARITO_LC          object \n",
            " 41  TX_GABARITO_MT          object \n",
            " 42  TP_STATUS_REDACAO       float64\n",
            " 43  NU_NOTA_COMP1           float64\n",
            " 44  NU_NOTA_COMP2           float64\n",
            " 45  NU_NOTA_COMP3           float64\n",
            " 46  NU_NOTA_COMP4           float64\n",
            " 47  NU_NOTA_COMP5           float64\n",
            " 48  NU_NOTA_REDACAO         float64\n",
            "dtypes: float64(21), int64(15), object(13)\n",
            "memory usage: 1003.8+ MB\n"
          ]
        }
      ]
    },
    {
      "cell_type": "code",
      "source": [
        "# Inicialmente vamos analisar a variavel TP_FAIXA_ETARIA\n",
        "df['TP_FAIXA_ETARIA'].value_counts()"
      ],
      "metadata": {
        "colab": {
          "base_uri": "https://localhost:8080/"
        },
        "id": "1br9pe_ITyiO",
        "outputId": "c83aff07-841f-4104-ef33-8f808d09007d"
      },
      "id": "1br9pe_ITyiO",
      "execution_count": 11,
      "outputs": [
        {
          "output_type": "execute_result",
          "data": {
            "text/plain": [
              "3     617793\n",
              "2     556833\n",
              "4     330953\n",
              "1     230618\n",
              "5     200433\n",
              "11    139229\n",
              "6     133935\n",
              "7      95589\n",
              "12     76362\n",
              "8      69978\n",
              "9      57660\n",
              "13     54026\n",
              "10     45998\n",
              "14     33927\n",
              "15     20690\n",
              "16     11583\n",
              "17      5998\n",
              "18      2310\n",
              "19       789\n",
              "20       349\n",
              "Name: TP_FAIXA_ETARIA, dtype: int64"
            ]
          },
          "metadata": {},
          "execution_count": 11
        }
      ]
    },
    {
      "cell_type": "code",
      "source": [
        "# No conjunto de dados, algumas colunas estão com as informaçoes sumarizadas pelo dicionário de dados disponibilizado \n",
        "# Sendo asssim vou consultar o dicionário(está disponível no formato xlsx) e criar um dicionário para posteriormente criar uma coluna com os dados.\n",
        "dic_fx_etaria = {1:'Menor de 17 anos',\n",
        "                2:'17 anos',\n",
        "                3:'18 anos',\n",
        "                4:'19 anos',\n",
        "                5:'20 anos',\n",
        "                6:'21 anos',\n",
        "                7:'22 anos',\n",
        "                8:'23 anos',\n",
        "                9:'24 anos',\n",
        "                10:'25 anos',\n",
        "                11:'Entre 26 e 30 anos',\n",
        "                12:'Entre 31 e 35 anos',\n",
        "                13:'Entre 36 e 40 anos',\n",
        "                14:'Entre 41 e 45 anos',\n",
        "                15:'Entre 46 e 50 anos',\n",
        "                16:'Entre 51 e 55 anos',\n",
        "                17:'Entre 56 e 60 anos',\n",
        "                18:'Entre 61 e 65 anos',\n",
        "                19:'Entre 66 e 70 anos',\n",
        "                20:'Maior de 70 anos'}"
      ],
      "metadata": {
        "id": "pvrkWcgITyzS"
      },
      "id": "pvrkWcgITyzS",
      "execution_count": 12,
      "outputs": []
    },
    {
      "cell_type": "code",
      "source": [
        "# Criando um novo dataframe com as colunas desejadas\n",
        "microdados.columns\n",
        "df_faixa_etaria = microdados[['NU_INSCRICAO','TP_FAIXA_ETARIA']]"
      ],
      "metadata": {
        "id": "stCbxb-lVjhi"
      },
      "id": "stCbxb-lVjhi",
      "execution_count": 13,
      "outputs": []
    },
    {
      "cell_type": "code",
      "source": [
        "# Criando a coluna com o list comprehension\n",
        "# A estrutura seria [x for x in df]\n",
        "df_faixa_etaria['dic_faixa_etaria'] = [dic_fx_etaria[x] for x in df_faixa_etaria.TP_FAIXA_ETARIA]"
      ],
      "metadata": {
        "colab": {
          "base_uri": "https://localhost:8080/"
        },
        "id": "_Npp_v3ZVjkv",
        "outputId": "faa89932-e25c-429b-80b9-996f098c9599"
      },
      "id": "_Npp_v3ZVjkv",
      "execution_count": 14,
      "outputs": [
        {
          "output_type": "stream",
          "name": "stderr",
          "text": [
            "/usr/local/lib/python3.7/dist-packages/ipykernel_launcher.py:3: SettingWithCopyWarning: \n",
            "A value is trying to be set on a copy of a slice from a DataFrame.\n",
            "Try using .loc[row_indexer,col_indexer] = value instead\n",
            "\n",
            "See the caveats in the documentation: https://pandas.pydata.org/pandas-docs/stable/user_guide/indexing.html#returning-a-view-versus-a-copy\n",
            "  This is separate from the ipykernel package so we can avoid doing imports until\n"
          ]
        }
      ]
    },
    {
      "cell_type": "code",
      "source": [
        "df_faixa_etaria.head()"
      ],
      "metadata": {
        "colab": {
          "base_uri": "https://localhost:8080/",
          "height": 206
        },
        "id": "HtxfHAj6VjoD",
        "outputId": "55d21956-86e8-45a9-8560-29194a813eb6"
      },
      "id": "HtxfHAj6VjoD",
      "execution_count": 15,
      "outputs": [
        {
          "output_type": "execute_result",
          "data": {
            "text/plain": [
              "   NU_INSCRICAO  TP_FAIXA_ETARIA    dic_faixa_etaria\n",
              "0  210053865474                5             20 anos\n",
              "1  210052384164               12  Entre 31 e 35 anos\n",
              "2  210052589243               13  Entre 36 e 40 anos\n",
              "3  210052128335                3             18 anos\n",
              "4  210051353021                2             17 anos"
            ],
            "text/html": [
              "\n",
              "  <div id=\"df-4db81a2b-fb2b-44c9-8721-501a2e1464f0\">\n",
              "    <div class=\"colab-df-container\">\n",
              "      <div>\n",
              "<style scoped>\n",
              "    .dataframe tbody tr th:only-of-type {\n",
              "        vertical-align: middle;\n",
              "    }\n",
              "\n",
              "    .dataframe tbody tr th {\n",
              "        vertical-align: top;\n",
              "    }\n",
              "\n",
              "    .dataframe thead th {\n",
              "        text-align: right;\n",
              "    }\n",
              "</style>\n",
              "<table border=\"1\" class=\"dataframe\">\n",
              "  <thead>\n",
              "    <tr style=\"text-align: right;\">\n",
              "      <th></th>\n",
              "      <th>NU_INSCRICAO</th>\n",
              "      <th>TP_FAIXA_ETARIA</th>\n",
              "      <th>dic_faixa_etaria</th>\n",
              "    </tr>\n",
              "  </thead>\n",
              "  <tbody>\n",
              "    <tr>\n",
              "      <th>0</th>\n",
              "      <td>210053865474</td>\n",
              "      <td>5</td>\n",
              "      <td>20 anos</td>\n",
              "    </tr>\n",
              "    <tr>\n",
              "      <th>1</th>\n",
              "      <td>210052384164</td>\n",
              "      <td>12</td>\n",
              "      <td>Entre 31 e 35 anos</td>\n",
              "    </tr>\n",
              "    <tr>\n",
              "      <th>2</th>\n",
              "      <td>210052589243</td>\n",
              "      <td>13</td>\n",
              "      <td>Entre 36 e 40 anos</td>\n",
              "    </tr>\n",
              "    <tr>\n",
              "      <th>3</th>\n",
              "      <td>210052128335</td>\n",
              "      <td>3</td>\n",
              "      <td>18 anos</td>\n",
              "    </tr>\n",
              "    <tr>\n",
              "      <th>4</th>\n",
              "      <td>210051353021</td>\n",
              "      <td>2</td>\n",
              "      <td>17 anos</td>\n",
              "    </tr>\n",
              "  </tbody>\n",
              "</table>\n",
              "</div>\n",
              "      <button class=\"colab-df-convert\" onclick=\"convertToInteractive('df-4db81a2b-fb2b-44c9-8721-501a2e1464f0')\"\n",
              "              title=\"Convert this dataframe to an interactive table.\"\n",
              "              style=\"display:none;\">\n",
              "        \n",
              "  <svg xmlns=\"http://www.w3.org/2000/svg\" height=\"24px\"viewBox=\"0 0 24 24\"\n",
              "       width=\"24px\">\n",
              "    <path d=\"M0 0h24v24H0V0z\" fill=\"none\"/>\n",
              "    <path d=\"M18.56 5.44l.94 2.06.94-2.06 2.06-.94-2.06-.94-.94-2.06-.94 2.06-2.06.94zm-11 1L8.5 8.5l.94-2.06 2.06-.94-2.06-.94L8.5 2.5l-.94 2.06-2.06.94zm10 10l.94 2.06.94-2.06 2.06-.94-2.06-.94-.94-2.06-.94 2.06-2.06.94z\"/><path d=\"M17.41 7.96l-1.37-1.37c-.4-.4-.92-.59-1.43-.59-.52 0-1.04.2-1.43.59L10.3 9.45l-7.72 7.72c-.78.78-.78 2.05 0 2.83L4 21.41c.39.39.9.59 1.41.59.51 0 1.02-.2 1.41-.59l7.78-7.78 2.81-2.81c.8-.78.8-2.07 0-2.86zM5.41 20L4 18.59l7.72-7.72 1.47 1.35L5.41 20z\"/>\n",
              "  </svg>\n",
              "      </button>\n",
              "      \n",
              "  <style>\n",
              "    .colab-df-container {\n",
              "      display:flex;\n",
              "      flex-wrap:wrap;\n",
              "      gap: 12px;\n",
              "    }\n",
              "\n",
              "    .colab-df-convert {\n",
              "      background-color: #E8F0FE;\n",
              "      border: none;\n",
              "      border-radius: 50%;\n",
              "      cursor: pointer;\n",
              "      display: none;\n",
              "      fill: #1967D2;\n",
              "      height: 32px;\n",
              "      padding: 0 0 0 0;\n",
              "      width: 32px;\n",
              "    }\n",
              "\n",
              "    .colab-df-convert:hover {\n",
              "      background-color: #E2EBFA;\n",
              "      box-shadow: 0px 1px 2px rgba(60, 64, 67, 0.3), 0px 1px 3px 1px rgba(60, 64, 67, 0.15);\n",
              "      fill: #174EA6;\n",
              "    }\n",
              "\n",
              "    [theme=dark] .colab-df-convert {\n",
              "      background-color: #3B4455;\n",
              "      fill: #D2E3FC;\n",
              "    }\n",
              "\n",
              "    [theme=dark] .colab-df-convert:hover {\n",
              "      background-color: #434B5C;\n",
              "      box-shadow: 0px 1px 3px 1px rgba(0, 0, 0, 0.15);\n",
              "      filter: drop-shadow(0px 1px 2px rgba(0, 0, 0, 0.3));\n",
              "      fill: #FFFFFF;\n",
              "    }\n",
              "  </style>\n",
              "\n",
              "      <script>\n",
              "        const buttonEl =\n",
              "          document.querySelector('#df-4db81a2b-fb2b-44c9-8721-501a2e1464f0 button.colab-df-convert');\n",
              "        buttonEl.style.display =\n",
              "          google.colab.kernel.accessAllowed ? 'block' : 'none';\n",
              "\n",
              "        async function convertToInteractive(key) {\n",
              "          const element = document.querySelector('#df-4db81a2b-fb2b-44c9-8721-501a2e1464f0');\n",
              "          const dataTable =\n",
              "            await google.colab.kernel.invokeFunction('convertToInteractive',\n",
              "                                                     [key], {});\n",
              "          if (!dataTable) return;\n",
              "\n",
              "          const docLinkHtml = 'Like what you see? Visit the ' +\n",
              "            '<a target=\"_blank\" href=https://colab.research.google.com/notebooks/data_table.ipynb>data table notebook</a>'\n",
              "            + ' to learn more about interactive tables.';\n",
              "          element.innerHTML = '';\n",
              "          dataTable['output_type'] = 'display_data';\n",
              "          await google.colab.output.renderOutput(dataTable, element);\n",
              "          const docLink = document.createElement('div');\n",
              "          docLink.innerHTML = docLinkHtml;\n",
              "          element.appendChild(docLink);\n",
              "        }\n",
              "      </script>\n",
              "    </div>\n",
              "  </div>\n",
              "  "
            ]
          },
          "metadata": {},
          "execution_count": 15
        }
      ]
    },
    {
      "cell_type": "code",
      "source": [
        "# Posteriormente vou utilizar o groupby() e fazer um agrupamento da coluna dic_faixa_etaria e ter uma noção da idade dos candidatos do enem 2021.\n",
        "df_faixa_etaria.groupby('dic_faixa_etaria').count().sort_values(by = 'TP_FAIXA_ETARIA', ascending=False)"
      ],
      "metadata": {
        "colab": {
          "base_uri": "https://localhost:8080/",
          "height": 708
        },
        "id": "rzrmn0YpVj1p",
        "outputId": "74f267cb-e1ad-471a-af4a-16d4a6cad20a"
      },
      "id": "rzrmn0YpVj1p",
      "execution_count": 16,
      "outputs": [
        {
          "output_type": "execute_result",
          "data": {
            "text/plain": [
              "                    NU_INSCRICAO  TP_FAIXA_ETARIA\n",
              "dic_faixa_etaria                                 \n",
              "18 anos                   617793           617793\n",
              "17 anos                   556833           556833\n",
              "19 anos                   330953           330953\n",
              "Menor de 17 anos          230618           230618\n",
              "20 anos                   200433           200433\n",
              "Entre 26 e 30 anos        139229           139229\n",
              "21 anos                   133935           133935\n",
              "22 anos                    95589            95589\n",
              "Entre 31 e 35 anos         76362            76362\n",
              "23 anos                    69978            69978\n",
              "24 anos                    57660            57660\n",
              "Entre 36 e 40 anos         54026            54026\n",
              "25 anos                    45998            45998\n",
              "Entre 41 e 45 anos         33927            33927\n",
              "Entre 46 e 50 anos         20690            20690\n",
              "Entre 51 e 55 anos         11583            11583\n",
              "Entre 56 e 60 anos          5998             5998\n",
              "Entre 61 e 65 anos          2310             2310\n",
              "Entre 66 e 70 anos           789              789\n",
              "Maior de 70 anos             349              349"
            ],
            "text/html": [
              "\n",
              "  <div id=\"df-b03fe2f8-3069-4ccf-8e85-6e1f994da9ac\">\n",
              "    <div class=\"colab-df-container\">\n",
              "      <div>\n",
              "<style scoped>\n",
              "    .dataframe tbody tr th:only-of-type {\n",
              "        vertical-align: middle;\n",
              "    }\n",
              "\n",
              "    .dataframe tbody tr th {\n",
              "        vertical-align: top;\n",
              "    }\n",
              "\n",
              "    .dataframe thead th {\n",
              "        text-align: right;\n",
              "    }\n",
              "</style>\n",
              "<table border=\"1\" class=\"dataframe\">\n",
              "  <thead>\n",
              "    <tr style=\"text-align: right;\">\n",
              "      <th></th>\n",
              "      <th>NU_INSCRICAO</th>\n",
              "      <th>TP_FAIXA_ETARIA</th>\n",
              "    </tr>\n",
              "    <tr>\n",
              "      <th>dic_faixa_etaria</th>\n",
              "      <th></th>\n",
              "      <th></th>\n",
              "    </tr>\n",
              "  </thead>\n",
              "  <tbody>\n",
              "    <tr>\n",
              "      <th>18 anos</th>\n",
              "      <td>617793</td>\n",
              "      <td>617793</td>\n",
              "    </tr>\n",
              "    <tr>\n",
              "      <th>17 anos</th>\n",
              "      <td>556833</td>\n",
              "      <td>556833</td>\n",
              "    </tr>\n",
              "    <tr>\n",
              "      <th>19 anos</th>\n",
              "      <td>330953</td>\n",
              "      <td>330953</td>\n",
              "    </tr>\n",
              "    <tr>\n",
              "      <th>Menor de 17 anos</th>\n",
              "      <td>230618</td>\n",
              "      <td>230618</td>\n",
              "    </tr>\n",
              "    <tr>\n",
              "      <th>20 anos</th>\n",
              "      <td>200433</td>\n",
              "      <td>200433</td>\n",
              "    </tr>\n",
              "    <tr>\n",
              "      <th>Entre 26 e 30 anos</th>\n",
              "      <td>139229</td>\n",
              "      <td>139229</td>\n",
              "    </tr>\n",
              "    <tr>\n",
              "      <th>21 anos</th>\n",
              "      <td>133935</td>\n",
              "      <td>133935</td>\n",
              "    </tr>\n",
              "    <tr>\n",
              "      <th>22 anos</th>\n",
              "      <td>95589</td>\n",
              "      <td>95589</td>\n",
              "    </tr>\n",
              "    <tr>\n",
              "      <th>Entre 31 e 35 anos</th>\n",
              "      <td>76362</td>\n",
              "      <td>76362</td>\n",
              "    </tr>\n",
              "    <tr>\n",
              "      <th>23 anos</th>\n",
              "      <td>69978</td>\n",
              "      <td>69978</td>\n",
              "    </tr>\n",
              "    <tr>\n",
              "      <th>24 anos</th>\n",
              "      <td>57660</td>\n",
              "      <td>57660</td>\n",
              "    </tr>\n",
              "    <tr>\n",
              "      <th>Entre 36 e 40 anos</th>\n",
              "      <td>54026</td>\n",
              "      <td>54026</td>\n",
              "    </tr>\n",
              "    <tr>\n",
              "      <th>25 anos</th>\n",
              "      <td>45998</td>\n",
              "      <td>45998</td>\n",
              "    </tr>\n",
              "    <tr>\n",
              "      <th>Entre 41 e 45 anos</th>\n",
              "      <td>33927</td>\n",
              "      <td>33927</td>\n",
              "    </tr>\n",
              "    <tr>\n",
              "      <th>Entre 46 e 50 anos</th>\n",
              "      <td>20690</td>\n",
              "      <td>20690</td>\n",
              "    </tr>\n",
              "    <tr>\n",
              "      <th>Entre 51 e 55 anos</th>\n",
              "      <td>11583</td>\n",
              "      <td>11583</td>\n",
              "    </tr>\n",
              "    <tr>\n",
              "      <th>Entre 56 e 60 anos</th>\n",
              "      <td>5998</td>\n",
              "      <td>5998</td>\n",
              "    </tr>\n",
              "    <tr>\n",
              "      <th>Entre 61 e 65 anos</th>\n",
              "      <td>2310</td>\n",
              "      <td>2310</td>\n",
              "    </tr>\n",
              "    <tr>\n",
              "      <th>Entre 66 e 70 anos</th>\n",
              "      <td>789</td>\n",
              "      <td>789</td>\n",
              "    </tr>\n",
              "    <tr>\n",
              "      <th>Maior de 70 anos</th>\n",
              "      <td>349</td>\n",
              "      <td>349</td>\n",
              "    </tr>\n",
              "  </tbody>\n",
              "</table>\n",
              "</div>\n",
              "      <button class=\"colab-df-convert\" onclick=\"convertToInteractive('df-b03fe2f8-3069-4ccf-8e85-6e1f994da9ac')\"\n",
              "              title=\"Convert this dataframe to an interactive table.\"\n",
              "              style=\"display:none;\">\n",
              "        \n",
              "  <svg xmlns=\"http://www.w3.org/2000/svg\" height=\"24px\"viewBox=\"0 0 24 24\"\n",
              "       width=\"24px\">\n",
              "    <path d=\"M0 0h24v24H0V0z\" fill=\"none\"/>\n",
              "    <path d=\"M18.56 5.44l.94 2.06.94-2.06 2.06-.94-2.06-.94-.94-2.06-.94 2.06-2.06.94zm-11 1L8.5 8.5l.94-2.06 2.06-.94-2.06-.94L8.5 2.5l-.94 2.06-2.06.94zm10 10l.94 2.06.94-2.06 2.06-.94-2.06-.94-.94-2.06-.94 2.06-2.06.94z\"/><path d=\"M17.41 7.96l-1.37-1.37c-.4-.4-.92-.59-1.43-.59-.52 0-1.04.2-1.43.59L10.3 9.45l-7.72 7.72c-.78.78-.78 2.05 0 2.83L4 21.41c.39.39.9.59 1.41.59.51 0 1.02-.2 1.41-.59l7.78-7.78 2.81-2.81c.8-.78.8-2.07 0-2.86zM5.41 20L4 18.59l7.72-7.72 1.47 1.35L5.41 20z\"/>\n",
              "  </svg>\n",
              "      </button>\n",
              "      \n",
              "  <style>\n",
              "    .colab-df-container {\n",
              "      display:flex;\n",
              "      flex-wrap:wrap;\n",
              "      gap: 12px;\n",
              "    }\n",
              "\n",
              "    .colab-df-convert {\n",
              "      background-color: #E8F0FE;\n",
              "      border: none;\n",
              "      border-radius: 50%;\n",
              "      cursor: pointer;\n",
              "      display: none;\n",
              "      fill: #1967D2;\n",
              "      height: 32px;\n",
              "      padding: 0 0 0 0;\n",
              "      width: 32px;\n",
              "    }\n",
              "\n",
              "    .colab-df-convert:hover {\n",
              "      background-color: #E2EBFA;\n",
              "      box-shadow: 0px 1px 2px rgba(60, 64, 67, 0.3), 0px 1px 3px 1px rgba(60, 64, 67, 0.15);\n",
              "      fill: #174EA6;\n",
              "    }\n",
              "\n",
              "    [theme=dark] .colab-df-convert {\n",
              "      background-color: #3B4455;\n",
              "      fill: #D2E3FC;\n",
              "    }\n",
              "\n",
              "    [theme=dark] .colab-df-convert:hover {\n",
              "      background-color: #434B5C;\n",
              "      box-shadow: 0px 1px 3px 1px rgba(0, 0, 0, 0.15);\n",
              "      filter: drop-shadow(0px 1px 2px rgba(0, 0, 0, 0.3));\n",
              "      fill: #FFFFFF;\n",
              "    }\n",
              "  </style>\n",
              "\n",
              "      <script>\n",
              "        const buttonEl =\n",
              "          document.querySelector('#df-b03fe2f8-3069-4ccf-8e85-6e1f994da9ac button.colab-df-convert');\n",
              "        buttonEl.style.display =\n",
              "          google.colab.kernel.accessAllowed ? 'block' : 'none';\n",
              "\n",
              "        async function convertToInteractive(key) {\n",
              "          const element = document.querySelector('#df-b03fe2f8-3069-4ccf-8e85-6e1f994da9ac');\n",
              "          const dataTable =\n",
              "            await google.colab.kernel.invokeFunction('convertToInteractive',\n",
              "                                                     [key], {});\n",
              "          if (!dataTable) return;\n",
              "\n",
              "          const docLinkHtml = 'Like what you see? Visit the ' +\n",
              "            '<a target=\"_blank\" href=https://colab.research.google.com/notebooks/data_table.ipynb>data table notebook</a>'\n",
              "            + ' to learn more about interactive tables.';\n",
              "          element.innerHTML = '';\n",
              "          dataTable['output_type'] = 'display_data';\n",
              "          await google.colab.output.renderOutput(dataTable, element);\n",
              "          const docLink = document.createElement('div');\n",
              "          docLink.innerHTML = docLinkHtml;\n",
              "          element.appendChild(docLink);\n",
              "        }\n",
              "      </script>\n",
              "    </div>\n",
              "  </div>\n",
              "  "
            ]
          },
          "metadata": {},
          "execution_count": 16
        }
      ]
    },
    {
      "cell_type": "code",
      "source": [
        "# Visualizanda a disitribuição das idades\n",
        "fx_et_plot = df_faixa_etaria.groupby('dic_faixa_etaria').count().sort_values(by = 'TP_FAIXA_ETARIA', ascending=False)\n",
        "fx_et_plot.plot()"
      ],
      "metadata": {
        "colab": {
          "base_uri": "https://localhost:8080/",
          "height": 297
        },
        "id": "9YsHEtvnVj7a",
        "outputId": "48f9d523-a4d0-4cf9-a43b-65763eed4694"
      },
      "id": "9YsHEtvnVj7a",
      "execution_count": 17,
      "outputs": [
        {
          "output_type": "execute_result",
          "data": {
            "text/plain": [
              "<matplotlib.axes._subplots.AxesSubplot at 0x7fdfb5ccfd50>"
            ]
          },
          "metadata": {},
          "execution_count": 17
        },
        {
          "output_type": "display_data",
          "data": {
            "text/plain": [
              "<Figure size 432x288 with 1 Axes>"
            ],
            "image/png": "[encoded data removed]"
          },
          "metadata": {
            "needs_background": "light"
          }
        }
      ]
    },
    {
      "cell_type": "markdown",
      "source": [
        "#### Insights dessa primeira análise\n",
        "\n",
        "**Tiramos algumas informações relevantes como:**\n",
        "\n",
        "\n",
        "*   Existe uma tendencia de quanto menor a idade maior a quantidade de candidatos.\n",
        "*   A idade mais frequente é 18 anos.\n",
        "*   Apesar de em menor numero temos pessoas com mais de 60 anos.\n",
        "\n"
      ],
      "metadata": {
        "id": "t59GXVlXoAW3"
      },
      "id": "t59GXVlXoAW3"
    },
    {
      "cell_type": "code",
      "execution_count": 18,
      "id": "d60b9072",
      "metadata": {
        "colab": {
          "base_uri": "https://localhost:8080/"
        },
        "id": "d60b9072",
        "outputId": "bfb65ae6-bd3b-4882-cf23-2010ba8d02b1"
      },
      "outputs": [
        {
          "output_type": "execute_result",
          "data": {
            "text/plain": [
              "F    62.794217\n",
              "M    37.205783\n",
              "Name: TP_SEXO, dtype: float64"
            ]
          },
          "metadata": {},
          "execution_count": 18
        }
      ],
      "source": [
        "# Distribuição média por genero \n",
        "sexo = df['TP_SEXO'].value_counts().head()/df.TP_SEXO.shape[0]*100\n",
        "sexo"
      ]
    },
    {
      "cell_type": "code",
      "source": [
        "plt.bar(df.TP_SEXO.unique(), df.TP_SEXO.value_counts(), color = 'lightblue')\n",
        "plt.title('Distribuição de frequência para variável TP_SEXO\\n', {'fontsize': 12,'fontweight': 'bold'})\n",
        "plt.grid(axis = 'y')\n",
        "plt.show()"
      ],
      "metadata": {
        "colab": {
          "base_uri": "https://localhost:8080/",
          "height": 296
        },
        "id": "Fq7UdgD1r7P-",
        "outputId": "7d6f7e83-eb15-4ef1-bc39-f1cd3c20ad76"
      },
      "id": "Fq7UdgD1r7P-",
      "execution_count": 19,
      "outputs": [
        {
          "output_type": "display_data",
          "data": {
            "text/plain": [
              "<Figure size 432x288 with 1 Axes>"
            ],
            "image/png": "[encoded data removed]"
          },
          "metadata": {
            "needs_background": "light"
          }
        }
      ]
    },
    {
      "cell_type": "code",
      "source": [
        "# Realizando uma análise de genero com a notas de redação\n",
        "\n",
        "df_red = df[['NU_NOTA_REDACAO','TP_SEXO']]\n",
        "df_red.groupby('TP_SEXO').describe()"
      ],
      "metadata": {
        "colab": {
          "base_uri": "https://localhost:8080/",
          "height": 175
        },
        "id": "eFE0zHekdSwB",
        "outputId": "73573823-051a-4952-f693-166ca6a08a36"
      },
      "id": "eFE0zHekdSwB",
      "execution_count": 20,
      "outputs": [
        {
          "output_type": "execute_result",
          "data": {
            "text/plain": [
              "        NU_NOTA_REDACAO                                                    \\\n",
              "                  count        mean         std  min    25%    50%    75%   \n",
              "TP_SEXO                                                                     \n",
              "F             1284798.0  633.999493  188.313942  0.0  540.0  620.0  760.0   \n",
              "M              756975.0  606.498471  192.433705  0.0  520.0  600.0  720.0   \n",
              "\n",
              "                 \n",
              "            max  \n",
              "TP_SEXO          \n",
              "F        1000.0  \n",
              "M        1000.0  "
            ],
            "text/html": [
              "\n",
              "  <div id=\"df-94f80326-b580-446c-bd45-4419a997a3e7\">\n",
              "    <div class=\"colab-df-container\">\n",
              "      <div>\n",
              "<style scoped>\n",
              "    .dataframe tbody tr th:only-of-type {\n",
              "        vertical-align: middle;\n",
              "    }\n",
              "\n",
              "    .dataframe tbody tr th {\n",
              "        vertical-align: top;\n",
              "    }\n",
              "\n",
              "    .dataframe thead tr th {\n",
              "        text-align: left;\n",
              "    }\n",
              "\n",
              "    .dataframe thead tr:last-of-type th {\n",
              "        text-align: right;\n",
              "    }\n",
              "</style>\n",
              "<table border=\"1\" class=\"dataframe\">\n",
              "  <thead>\n",
              "    <tr>\n",
              "      <th></th>\n",
              "      <th colspan=\"8\" halign=\"left\">NU_NOTA_REDACAO</th>\n",
              "    </tr>\n",
              "    <tr>\n",
              "      <th></th>\n",
              "      <th>count</th>\n",
              "      <th>mean</th>\n",
              "      <th>std</th>\n",
              "      <th>min</th>\n",
              "      <th>25%</th>\n",
              "      <th>50%</th>\n",
              "      <th>75%</th>\n",
              "      <th>max</th>\n",
              "    </tr>\n",
              "    <tr>\n",
              "      <th>TP_SEXO</th>\n",
              "      <th></th>\n",
              "      <th></th>\n",
              "      <th></th>\n",
              "      <th></th>\n",
              "      <th></th>\n",
              "      <th></th>\n",
              "      <th></th>\n",
              "      <th></th>\n",
              "    </tr>\n",
              "  </thead>\n",
              "  <tbody>\n",
              "    <tr>\n",
              "      <th>F</th>\n",
              "      <td>1284798.0</td>\n",
              "      <td>633.999493</td>\n",
              "      <td>188.313942</td>\n",
              "      <td>0.0</td>\n",
              "      <td>540.0</td>\n",
              "      <td>620.0</td>\n",
              "      <td>760.0</td>\n",
              "      <td>1000.0</td>\n",
              "    </tr>\n",
              "    <tr>\n",
              "      <th>M</th>\n",
              "      <td>756975.0</td>\n",
              "      <td>606.498471</td>\n",
              "      <td>192.433705</td>\n",
              "      <td>0.0</td>\n",
              "      <td>520.0</td>\n",
              "      <td>600.0</td>\n",
              "      <td>720.0</td>\n",
              "      <td>1000.0</td>\n",
              "    </tr>\n",
              "  </tbody>\n",
              "</table>\n",
              "</div>\n",
              "      <button class=\"colab-df-convert\" onclick=\"convertToInteractive('df-94f80326-b580-446c-bd45-4419a997a3e7')\"\n",
              "              title=\"Convert this dataframe to an interactive table.\"\n",
              "              style=\"display:none;\">\n",
              "        \n",
              "  <svg xmlns=\"http://www.w3.org/2000/svg\" height=\"24px\"viewBox=\"0 0 24 24\"\n",
              "       width=\"24px\">\n",
              "    <path d=\"M0 0h24v24H0V0z\" fill=\"none\"/>\n",
              "    <path d=\"M18.56 5.44l.94 2.06.94-2.06 2.06-.94-2.06-.94-.94-2.06-.94 2.06-2.06.94zm-11 1L8.5 8.5l.94-2.06 2.06-.94-2.06-.94L8.5 2.5l-.94 2.06-2.06.94zm10 10l.94 2.06.94-2.06 2.06-.94-2.06-.94-.94-2.06-.94 2.06-2.06.94z\"/><path d=\"M17.41 7.96l-1.37-1.37c-.4-.4-.92-.59-1.43-.59-.52 0-1.04.2-1.43.59L10.3 9.45l-7.72 7.72c-.78.78-.78 2.05 0 2.83L4 21.41c.39.39.9.59 1.41.59.51 0 1.02-.2 1.41-.59l7.78-7.78 2.81-2.81c.8-.78.8-2.07 0-2.86zM5.41 20L4 18.59l7.72-7.72 1.47 1.35L5.41 20z\"/>\n",
              "  </svg>\n",
              "      </button>\n",
              "      \n",
              "  <style>\n",
              "    .colab-df-container {\n",
              "      display:flex;\n",
              "      flex-wrap:wrap;\n",
              "      gap: 12px;\n",
              "    }\n",
              "\n",
              "    .colab-df-convert {\n",
              "      background-color: #E8F0FE;\n",
              "      border: none;\n",
              "      border-radius: 50%;\n",
              "      cursor: pointer;\n",
              "      display: none;\n",
              "      fill: #1967D2;\n",
              "      height: 32px;\n",
              "      padding: 0 0 0 0;\n",
              "      width: 32px;\n",
              "    }\n",
              "\n",
              "    .colab-df-convert:hover {\n",
              "      background-color: #E2EBFA;\n",
              "      box-shadow: 0px 1px 2px rgba(60, 64, 67, 0.3), 0px 1px 3px 1px rgba(60, 64, 67, 0.15);\n",
              "      fill: #174EA6;\n",
              "    }\n",
              "\n",
              "    [theme=dark] .colab-df-convert {\n",
              "      background-color: #3B4455;\n",
              "      fill: #D2E3FC;\n",
              "    }\n",
              "\n",
              "    [theme=dark] .colab-df-convert:hover {\n",
              "      background-color: #434B5C;\n",
              "      box-shadow: 0px 1px 3px 1px rgba(0, 0, 0, 0.15);\n",
              "      filter: drop-shadow(0px 1px 2px rgba(0, 0, 0, 0.3));\n",
              "      fill: #FFFFFF;\n",
              "    }\n",
              "  </style>\n",
              "\n",
              "      <script>\n",
              "        const buttonEl =\n",
              "          document.querySelector('#df-94f80326-b580-446c-bd45-4419a997a3e7 button.colab-df-convert');\n",
              "        buttonEl.style.display =\n",
              "          google.colab.kernel.accessAllowed ? 'block' : 'none';\n",
              "\n",
              "        async function convertToInteractive(key) {\n",
              "          const element = document.querySelector('#df-94f80326-b580-446c-bd45-4419a997a3e7');\n",
              "          const dataTable =\n",
              "            await google.colab.kernel.invokeFunction('convertToInteractive',\n",
              "                                                     [key], {});\n",
              "          if (!dataTable) return;\n",
              "\n",
              "          const docLinkHtml = 'Like what you see? Visit the ' +\n",
              "            '<a target=\"_blank\" href=https://colab.research.google.com/notebooks/data_table.ipynb>data table notebook</a>'\n",
              "            + ' to learn more about interactive tables.';\n",
              "          element.innerHTML = '';\n",
              "          dataTable['output_type'] = 'display_data';\n",
              "          await google.colab.output.renderOutput(dataTable, element);\n",
              "          const docLink = document.createElement('div');\n",
              "          docLink.innerHTML = docLinkHtml;\n",
              "          element.appendChild(docLink);\n",
              "        }\n",
              "      </script>\n",
              "    </div>\n",
              "  </div>\n",
              "  "
            ]
          },
          "metadata": {},
          "execution_count": 20
        }
      ]
    },
    {
      "cell_type": "markdown",
      "source": [
        "**Percebemos que sobre o genero:**\n",
        "\n",
        "\n",
        "\n",
        "1.   As mulheres foi maioria no teste com 62% dos condidatos\n",
        "2.   As mulheres tambem obtiveram em média notas melhores, apesar que em diferenças pequenas.\n",
        "\n"
      ],
      "metadata": {
        "id": "WIsqr2MTqfSc"
      },
      "id": "WIsqr2MTqfSc"
    },
    {
      "cell_type": "code",
      "source": [
        "# Com o histograma visualizamos que as mulheres teve uma concentração maior em todas as notas de redação. **também tirou mais zeros\n",
        "df_red.groupby('TP_SEXO').hist()"
      ],
      "metadata": {
        "colab": {
          "base_uri": "https://localhost:8080/",
          "height": 614
        },
        "id": "_xE-c3NHfUxg",
        "outputId": "28a0cd9c-5809-4870-ef83-c90cb179684d"
      },
      "id": "_xE-c3NHfUxg",
      "execution_count": 21,
      "outputs": [
        {
          "output_type": "execute_result",
          "data": {
            "text/plain": [
              "TP_SEXO\n",
              "F    [[AxesSubplot(0.125,0.125;0.775x0.755)]]\n",
              "M    [[AxesSubplot(0.125,0.125;0.775x0.755)]]\n",
              "dtype: object"
            ]
          },
          "metadata": {},
          "execution_count": 21
        },
        {
          "output_type": "display_data",
          "data": {
            "text/plain": [
              "<Figure size 432x288 with 1 Axes>"
            ],
            "image/png": "[encoded data removed]"
          },
          "metadata": {
            "needs_background": "light"
          }
        },
        {
          "output_type": "display_data",
          "data": {
            "text/plain": [
              "<Figure size 432x288 with 1 Axes>"
            ],
            "image/png": "[encoded data removed]"
          },
          "metadata": {
            "needs_background": "light"
          }
        }
      ]
    },
    {
      "cell_type": "code",
      "execution_count": 22,
      "id": "97ed3683",
      "metadata": {
        "colab": {
          "base_uri": "https://localhost:8080/"
        },
        "id": "97ed3683",
        "outputId": "771a2c1f-2c6d-4562-922b-25008ca82938"
      },
      "outputs": [
        {
          "output_type": "stream",
          "name": "stdout",
          "text": [
            "5 Maiores municipios\n",
            "\n",
            "São Paulo         32884\n",
            "Fortaleza         27232\n",
            "Rio de Janeiro    21793\n",
            "Brasília          14763\n",
            "Manaus            14603\n",
            "Name: NO_MUNICIPIO_ESC, dtype: int64\n",
            "**********************\n",
            "15 Menores municipios\n",
            "\n",
            "Nova Aliança do Ivaí    1\n",
            "Goiabeira               1\n",
            "Cedro do Abaeté         1\n",
            "Marajá do Sena          1\n",
            "Inúbia Paulista         1\n",
            "Name: NO_MUNICIPIO_ESC, dtype: int64\n"
          ]
        }
      ],
      "source": [
        "# Numero do municipio está muito inconsistente pela quantidade de valores nulos.\n",
        "# Sendo assim a próxima etapa será a de limpeza dos dados.\n",
        "print('5 Maiores municipios\\n')\n",
        "\n",
        "print(df['NO_MUNICIPIO_ESC'].value_counts().head())\n",
        "print('**********************')\n",
        "print('15 Menores municipios\\n')\n",
        "print(df['NO_MUNICIPIO_ESC'].value_counts().tail(5))"
      ]
    },
    {
      "cell_type": "code",
      "source": [
        "# Vamos analisar a localidade\n",
        "df_cidade_estado = microdados[['NU_INSCRICAO','NO_MUNICIPIO_PROVA', 'SG_UF_PROVA']]\n",
        "df_estado = microdados[['NU_INSCRICAO', 'SG_UF_PROVA']]"
      ],
      "metadata": {
        "id": "ygRGzSVyvTiT"
      },
      "id": "ygRGzSVyvTiT",
      "execution_count": 23,
      "outputs": []
    },
    {
      "cell_type": "markdown",
      "source": [
        "**Objetivo é criar uma coluna com as regiões do brasil**\n",
        "\n",
        "- Centro-Oeste são: Goiás, Mato Grosso, Mato Grosso do Sul e o Distrito Federal.\n",
        "- Norte abriga os seguintes estados: Acre, Amazonas, Amapá, Pará, Rondônia, Roraima e Tocantins.\n",
        "- Nordeste abrange Alagoas, Bahia, Ceará, Maranhão, Piauí, Pernambuco, Paraíba, Rio Grande do Norte e Sergipe.\n",
        "- Sul é composto por Paraná, Rio Grande do Sul e Santa Catarina.\n",
        "- Sudeste abriga os estados do Espírito Santo, Minas Gerais, Rio de Janeiro e São Paulo."
      ],
      "metadata": {
        "id": "k1aIo_cJ38n3"
      },
      "id": "k1aIo_cJ38n3"
    },
    {
      "cell_type": "code",
      "source": [
        "df_estado['SG_UF_PROVA'].unique()"
      ],
      "metadata": {
        "colab": {
          "base_uri": "https://localhost:8080/"
        },
        "id": "uL931yV63ZKP",
        "outputId": "a03f7123-29ab-4706-b924-59d61023d221"
      },
      "id": "uL931yV63ZKP",
      "execution_count": 24,
      "outputs": [
        {
          "output_type": "execute_result",
          "data": {
            "text/plain": [
              "array(['MG', 'AL', 'SP', 'CE', 'RS', 'BA', 'GO', 'RN', 'PA', 'RJ', 'MT',\n",
              "       'PE', 'MA', 'RO', 'SE', 'PR', 'PB', 'PI', 'ES', 'DF', 'TO', 'AM',\n",
              "       'SC', 'AP', 'MS', 'RR', 'AC'], dtype=object)"
            ]
          },
          "metadata": {},
          "execution_count": 24
        }
      ]
    },
    {
      "cell_type": "code",
      "source": [
        "dict_reg = {\n",
        "       'MG':'SUDESTE','ES':'SUDESTE','SP':'SUDESTE','RJ':'SUDESTE',\n",
        "       'PR':'SUL','RS':'SUL','SC':'SUL',\n",
        "       'GO':'CENTRO_OESTE','MT':'CENTRO_OESTE','MS':'CENTRO_OESTE','DF':'CENTRO_OESTE',\n",
        "       'PA':'NORTE','AM':'NORTE','AP':'NORTE','AC':'NORTE','RO':'NORTE','RR':'NORTE','TO':'NORTE',\n",
        "       'AL':'NORDESTE','BA':'NORDESTE','MA':'NORDESTE','PI':'NORDESTE','PE':'NORDESTE','PB':'NORDESTE','RN':'NORDESTE','SE':'NORDESTE','CE':'NORDESTE'\n",
        "}\n",
        "\n",
        "df_estado['reg'] = [dict_reg[y] for y in df_estado.SG_UF_PROVA]\n",
        "df_estado.head()"
      ],
      "metadata": {
        "colab": {
          "base_uri": "https://localhost:8080/",
          "height": 310
        },
        "id": "ZxPBfgoH4uJ8",
        "outputId": "f45fb8a6-b732-43ae-d954-d90d6055534f"
      },
      "id": "ZxPBfgoH4uJ8",
      "execution_count": 25,
      "outputs": [
        {
          "output_type": "stream",
          "name": "stderr",
          "text": [
            "/usr/local/lib/python3.7/dist-packages/ipykernel_launcher.py:9: SettingWithCopyWarning: \n",
            "A value is trying to be set on a copy of a slice from a DataFrame.\n",
            "Try using .loc[row_indexer,col_indexer] = value instead\n",
            "\n",
            "See the caveats in the documentation: https://pandas.pydata.org/pandas-docs/stable/user_guide/indexing.html#returning-a-view-versus-a-copy\n",
            "  if __name__ == '__main__':\n"
          ]
        },
        {
          "output_type": "execute_result",
          "data": {
            "text/plain": [
              "   NU_INSCRICAO SG_UF_PROVA       reg\n",
              "0  210053865474          MG   SUDESTE\n",
              "1  210052384164          AL  NORDESTE\n",
              "2  210052589243          SP   SUDESTE\n",
              "3  210052128335          CE  NORDESTE\n",
              "4  210051353021          CE  NORDESTE"
            ],
            "text/html": [
              "\n",
              "  <div id=\"df-d29e00b4-957b-4fa3-bad5-252480326bc7\">\n",
              "    <div class=\"colab-df-container\">\n",
              "      <div>\n",
              "<style scoped>\n",
              "    .dataframe tbody tr th:only-of-type {\n",
              "        vertical-align: middle;\n",
              "    }\n",
              "\n",
              "    .dataframe tbody tr th {\n",
              "        vertical-align: top;\n",
              "    }\n",
              "\n",
              "    .dataframe thead th {\n",
              "        text-align: right;\n",
              "    }\n",
              "</style>\n",
              "<table border=\"1\" class=\"dataframe\">\n",
              "  <thead>\n",
              "    <tr style=\"text-align: right;\">\n",
              "      <th></th>\n",
              "      <th>NU_INSCRICAO</th>\n",
              "      <th>SG_UF_PROVA</th>\n",
              "      <th>reg</th>\n",
              "    </tr>\n",
              "  </thead>\n",
              "  <tbody>\n",
              "    <tr>\n",
              "      <th>0</th>\n",
              "      <td>210053865474</td>\n",
              "      <td>MG</td>\n",
              "      <td>SUDESTE</td>\n",
              "    </tr>\n",
              "    <tr>\n",
              "      <th>1</th>\n",
              "      <td>210052384164</td>\n",
              "      <td>AL</td>\n",
              "      <td>NORDESTE</td>\n",
              "    </tr>\n",
              "    <tr>\n",
              "      <th>2</th>\n",
              "      <td>210052589243</td>\n",
              "      <td>SP</td>\n",
              "      <td>SUDESTE</td>\n",
              "    </tr>\n",
              "    <tr>\n",
              "      <th>3</th>\n",
              "      <td>210052128335</td>\n",
              "      <td>CE</td>\n",
              "      <td>NORDESTE</td>\n",
              "    </tr>\n",
              "    <tr>\n",
              "      <th>4</th>\n",
              "      <td>210051353021</td>\n",
              "      <td>CE</td>\n",
              "      <td>NORDESTE</td>\n",
              "    </tr>\n",
              "  </tbody>\n",
              "</table>\n",
              "</div>\n",
              "      <button class=\"colab-df-convert\" onclick=\"convertToInteractive('df-d29e00b4-957b-4fa3-bad5-252480326bc7')\"\n",
              "              title=\"Convert this dataframe to an interactive table.\"\n",
              "              style=\"display:none;\">\n",
              "        \n",
              "  <svg xmlns=\"http://www.w3.org/2000/svg\" height=\"24px\"viewBox=\"0 0 24 24\"\n",
              "       width=\"24px\">\n",
              "    <path d=\"M0 0h24v24H0V0z\" fill=\"none\"/>\n",
              "    <path d=\"M18.56 5.44l.94 2.06.94-2.06 2.06-.94-2.06-.94-.94-2.06-.94 2.06-2.06.94zm-11 1L8.5 8.5l.94-2.06 2.06-.94-2.06-.94L8.5 2.5l-.94 2.06-2.06.94zm10 10l.94 2.06.94-2.06 2.06-.94-2.06-.94-.94-2.06-.94 2.06-2.06.94z\"/><path d=\"M17.41 7.96l-1.37-1.37c-.4-.4-.92-.59-1.43-.59-.52 0-1.04.2-1.43.59L10.3 9.45l-7.72 7.72c-.78.78-.78 2.05 0 2.83L4 21.41c.39.39.9.59 1.41.59.51 0 1.02-.2 1.41-.59l7.78-7.78 2.81-2.81c.8-.78.8-2.07 0-2.86zM5.41 20L4 18.59l7.72-7.72 1.47 1.35L5.41 20z\"/>\n",
              "  </svg>\n",
              "      </button>\n",
              "      \n",
              "  <style>\n",
              "    .colab-df-container {\n",
              "      display:flex;\n",
              "      flex-wrap:wrap;\n",
              "      gap: 12px;\n",
              "    }\n",
              "\n",
              "    .colab-df-convert {\n",
              "      background-color: #E8F0FE;\n",
              "      border: none;\n",
              "      border-radius: 50%;\n",
              "      cursor: pointer;\n",
              "      display: none;\n",
              "      fill: #1967D2;\n",
              "      height: 32px;\n",
              "      padding: 0 0 0 0;\n",
              "      width: 32px;\n",
              "    }\n",
              "\n",
              "    .colab-df-convert:hover {\n",
              "      background-color: #E2EBFA;\n",
              "      box-shadow: 0px 1px 2px rgba(60, 64, 67, 0.3), 0px 1px 3px 1px rgba(60, 64, 67, 0.15);\n",
              "      fill: #174EA6;\n",
              "    }\n",
              "\n",
              "    [theme=dark] .colab-df-convert {\n",
              "      background-color: #3B4455;\n",
              "      fill: #D2E3FC;\n",
              "    }\n",
              "\n",
              "    [theme=dark] .colab-df-convert:hover {\n",
              "      background-color: #434B5C;\n",
              "      box-shadow: 0px 1px 3px 1px rgba(0, 0, 0, 0.15);\n",
              "      filter: drop-shadow(0px 1px 2px rgba(0, 0, 0, 0.3));\n",
              "      fill: #FFFFFF;\n",
              "    }\n",
              "  </style>\n",
              "\n",
              "      <script>\n",
              "        const buttonEl =\n",
              "          document.querySelector('#df-d29e00b4-957b-4fa3-bad5-252480326bc7 button.colab-df-convert');\n",
              "        buttonEl.style.display =\n",
              "          google.colab.kernel.accessAllowed ? 'block' : 'none';\n",
              "\n",
              "        async function convertToInteractive(key) {\n",
              "          const element = document.querySelector('#df-d29e00b4-957b-4fa3-bad5-252480326bc7');\n",
              "          const dataTable =\n",
              "            await google.colab.kernel.invokeFunction('convertToInteractive',\n",
              "                                                     [key], {});\n",
              "          if (!dataTable) return;\n",
              "\n",
              "          const docLinkHtml = 'Like what you see? Visit the ' +\n",
              "            '<a target=\"_blank\" href=https://colab.research.google.com/notebooks/data_table.ipynb>data table notebook</a>'\n",
              "            + ' to learn more about interactive tables.';\n",
              "          element.innerHTML = '';\n",
              "          dataTable['output_type'] = 'display_data';\n",
              "          await google.colab.output.renderOutput(dataTable, element);\n",
              "          const docLink = document.createElement('div');\n",
              "          docLink.innerHTML = docLinkHtml;\n",
              "          element.appendChild(docLink);\n",
              "        }\n",
              "      </script>\n",
              "    </div>\n",
              "  </div>\n",
              "  "
            ]
          },
          "metadata": {},
          "execution_count": 25
        }
      ]
    },
    {
      "cell_type": "code",
      "source": [
        "df_estado.groupby('SG_UF_PROVA').count().sort_values(by = 'NU_INSCRICAO', ascending = False)"
      ],
      "metadata": {
        "colab": {
          "base_uri": "https://localhost:8080/",
          "height": 927
        },
        "id": "pRqy2Y9_9VHS",
        "outputId": "61cbde27-3dc4-40ff-e2ef-efc20d0014d1"
      },
      "id": "pRqy2Y9_9VHS",
      "execution_count": 26,
      "outputs": [
        {
          "output_type": "execute_result",
          "data": {
            "text/plain": [
              "             NU_INSCRICAO     reg\n",
              "SG_UF_PROVA                      \n",
              "SP                 400583  400583\n",
              "MG                 256905  256905\n",
              "BA                 208034  208034\n",
              "CE                 195231  195231\n",
              "RJ                 186691  186691\n",
              "PE                 157963  157963\n",
              "PA                 141384  141384\n",
              "RS                 117530  117530\n",
              "GO                 116367  116367\n",
              "PR                 113264  113264\n",
              "MA                 100525  100525\n",
              "PB                  82710   82710\n",
              "SC                  64121   64121\n",
              "PI                  63849   63849\n",
              "AM                  63591   63591\n",
              "RN                  62998   62998\n",
              "DF                  52051   52051\n",
              "ES                  50868   50868\n",
              "AL                  44894   44894\n",
              "SE                  43722   43722\n",
              "MT                  43333   43333\n",
              "MS                  32246   32246\n",
              "TO                  24444   24444\n",
              "RO                  24211   24211\n",
              "AC                  15768   15768\n",
              "AP                  15669   15669\n",
              "RR                   6101    6101"
            ],
            "text/html": [
              "\n",
              "  <div id=\"df-11b8d97f-e9b6-49fd-a5fe-9c3d089b2044\">\n",
              "    <div class=\"colab-df-container\">\n",
              "      <div>\n",
              "<style scoped>\n",
              "    .dataframe tbody tr th:only-of-type {\n",
              "        vertical-align: middle;\n",
              "    }\n",
              "\n",
              "    .dataframe tbody tr th {\n",
              "        vertical-align: top;\n",
              "    }\n",
              "\n",
              "    .dataframe thead th {\n",
              "        text-align: right;\n",
              "    }\n",
              "</style>\n",
              "<table border=\"1\" class=\"dataframe\">\n",
              "  <thead>\n",
              "    <tr style=\"text-align: right;\">\n",
              "      <th></th>\n",
              "      <th>NU_INSCRICAO</th>\n",
              "      <th>reg</th>\n",
              "    </tr>\n",
              "    <tr>\n",
              "      <th>SG_UF_PROVA</th>\n",
              "      <th></th>\n",
              "      <th></th>\n",
              "    </tr>\n",
              "  </thead>\n",
              "  <tbody>\n",
              "    <tr>\n",
              "      <th>SP</th>\n",
              "      <td>400583</td>\n",
              "      <td>400583</td>\n",
              "    </tr>\n",
              "    <tr>\n",
              "      <th>MG</th>\n",
              "      <td>256905</td>\n",
              "      <td>256905</td>\n",
              "    </tr>\n",
              "    <tr>\n",
              "      <th>BA</th>\n",
              "      <td>208034</td>\n",
              "      <td>208034</td>\n",
              "    </tr>\n",
              "    <tr>\n",
              "      <th>CE</th>\n",
              "      <td>195231</td>\n",
              "      <td>195231</td>\n",
              "    </tr>\n",
              "    <tr>\n",
              "      <th>RJ</th>\n",
              "      <td>186691</td>\n",
              "      <td>186691</td>\n",
              "    </tr>\n",
              "    <tr>\n",
              "      <th>PE</th>\n",
              "      <td>157963</td>\n",
              "      <td>157963</td>\n",
              "    </tr>\n",
              "    <tr>\n",
              "      <th>PA</th>\n",
              "      <td>141384</td>\n",
              "      <td>141384</td>\n",
              "    </tr>\n",
              "    <tr>\n",
              "      <th>RS</th>\n",
              "      <td>117530</td>\n",
              "      <td>117530</td>\n",
              "    </tr>\n",
              "    <tr>\n",
              "      <th>GO</th>\n",
              "      <td>116367</td>\n",
              "      <td>116367</td>\n",
              "    </tr>\n",
              "    <tr>\n",
              "      <th>PR</th>\n",
              "      <td>113264</td>\n",
              "      <td>113264</td>\n",
              "    </tr>\n",
              "    <tr>\n",
              "      <th>MA</th>\n",
              "      <td>100525</td>\n",
              "      <td>100525</td>\n",
              "    </tr>\n",
              "    <tr>\n",
              "      <th>PB</th>\n",
              "      <td>82710</td>\n",
              "      <td>82710</td>\n",
              "    </tr>\n",
              "    <tr>\n",
              "      <th>SC</th>\n",
              "      <td>64121</td>\n",
              "      <td>64121</td>\n",
              "    </tr>\n",
              "    <tr>\n",
              "      <th>PI</th>\n",
              "      <td>63849</td>\n",
              "      <td>63849</td>\n",
              "    </tr>\n",
              "    <tr>\n",
              "      <th>AM</th>\n",
              "      <td>63591</td>\n",
              "      <td>63591</td>\n",
              "    </tr>\n",
              "    <tr>\n",
              "      <th>RN</th>\n",
              "      <td>62998</td>\n",
              "      <td>62998</td>\n",
              "    </tr>\n",
              "    <tr>\n",
              "      <th>DF</th>\n",
              "      <td>52051</td>\n",
              "      <td>52051</td>\n",
              "    </tr>\n",
              "    <tr>\n",
              "      <th>ES</th>\n",
              "      <td>50868</td>\n",
              "      <td>50868</td>\n",
              "    </tr>\n",
              "    <tr>\n",
              "      <th>AL</th>\n",
              "      <td>44894</td>\n",
              "      <td>44894</td>\n",
              "    </tr>\n",
              "    <tr>\n",
              "      <th>SE</th>\n",
              "      <td>43722</td>\n",
              "      <td>43722</td>\n",
              "    </tr>\n",
              "    <tr>\n",
              "      <th>MT</th>\n",
              "      <td>43333</td>\n",
              "      <td>43333</td>\n",
              "    </tr>\n",
              "    <tr>\n",
              "      <th>MS</th>\n",
              "      <td>32246</td>\n",
              "      <td>32246</td>\n",
              "    </tr>\n",
              "    <tr>\n",
              "      <th>TO</th>\n",
              "      <td>24444</td>\n",
              "      <td>24444</td>\n",
              "    </tr>\n",
              "    <tr>\n",
              "      <th>RO</th>\n",
              "      <td>24211</td>\n",
              "      <td>24211</td>\n",
              "    </tr>\n",
              "    <tr>\n",
              "      <th>AC</th>\n",
              "      <td>15768</td>\n",
              "      <td>15768</td>\n",
              "    </tr>\n",
              "    <tr>\n",
              "      <th>AP</th>\n",
              "      <td>15669</td>\n",
              "      <td>15669</td>\n",
              "    </tr>\n",
              "    <tr>\n",
              "      <th>RR</th>\n",
              "      <td>6101</td>\n",
              "      <td>6101</td>\n",
              "    </tr>\n",
              "  </tbody>\n",
              "</table>\n",
              "</div>\n",
              "      <button class=\"colab-df-convert\" onclick=\"convertToInteractive('df-11b8d97f-e9b6-49fd-a5fe-9c3d089b2044')\"\n",
              "              title=\"Convert this dataframe to an interactive table.\"\n",
              "              style=\"display:none;\">\n",
              "        \n",
              "  <svg xmlns=\"http://www.w3.org/2000/svg\" height=\"24px\"viewBox=\"0 0 24 24\"\n",
              "       width=\"24px\">\n",
              "    <path d=\"M0 0h24v24H0V0z\" fill=\"none\"/>\n",
              "    <path d=\"M18.56 5.44l.94 2.06.94-2.06 2.06-.94-2.06-.94-.94-2.06-.94 2.06-2.06.94zm-11 1L8.5 8.5l.94-2.06 2.06-.94-2.06-.94L8.5 2.5l-.94 2.06-2.06.94zm10 10l.94 2.06.94-2.06 2.06-.94-2.06-.94-.94-2.06-.94 2.06-2.06.94z\"/><path d=\"M17.41 7.96l-1.37-1.37c-.4-.4-.92-.59-1.43-.59-.52 0-1.04.2-1.43.59L10.3 9.45l-7.72 7.72c-.78.78-.78 2.05 0 2.83L4 21.41c.39.39.9.59 1.41.59.51 0 1.02-.2 1.41-.59l7.78-7.78 2.81-2.81c.8-.78.8-2.07 0-2.86zM5.41 20L4 18.59l7.72-7.72 1.47 1.35L5.41 20z\"/>\n",
              "  </svg>\n",
              "      </button>\n",
              "      \n",
              "  <style>\n",
              "    .colab-df-container {\n",
              "      display:flex;\n",
              "      flex-wrap:wrap;\n",
              "      gap: 12px;\n",
              "    }\n",
              "\n",
              "    .colab-df-convert {\n",
              "      background-color: #E8F0FE;\n",
              "      border: none;\n",
              "      border-radius: 50%;\n",
              "      cursor: pointer;\n",
              "      display: none;\n",
              "      fill: #1967D2;\n",
              "      height: 32px;\n",
              "      padding: 0 0 0 0;\n",
              "      width: 32px;\n",
              "    }\n",
              "\n",
              "    .colab-df-convert:hover {\n",
              "      background-color: #E2EBFA;\n",
              "      box-shadow: 0px 1px 2px rgba(60, 64, 67, 0.3), 0px 1px 3px 1px rgba(60, 64, 67, 0.15);\n",
              "      fill: #174EA6;\n",
              "    }\n",
              "\n",
              "    [theme=dark] .colab-df-convert {\n",
              "      background-color: #3B4455;\n",
              "      fill: #D2E3FC;\n",
              "    }\n",
              "\n",
              "    [theme=dark] .colab-df-convert:hover {\n",
              "      background-color: #434B5C;\n",
              "      box-shadow: 0px 1px 3px 1px rgba(0, 0, 0, 0.15);\n",
              "      filter: drop-shadow(0px 1px 2px rgba(0, 0, 0, 0.3));\n",
              "      fill: #FFFFFF;\n",
              "    }\n",
              "  </style>\n",
              "\n",
              "      <script>\n",
              "        const buttonEl =\n",
              "          document.querySelector('#df-11b8d97f-e9b6-49fd-a5fe-9c3d089b2044 button.colab-df-convert');\n",
              "        buttonEl.style.display =\n",
              "          google.colab.kernel.accessAllowed ? 'block' : 'none';\n",
              "\n",
              "        async function convertToInteractive(key) {\n",
              "          const element = document.querySelector('#df-11b8d97f-e9b6-49fd-a5fe-9c3d089b2044');\n",
              "          const dataTable =\n",
              "            await google.colab.kernel.invokeFunction('convertToInteractive',\n",
              "                                                     [key], {});\n",
              "          if (!dataTable) return;\n",
              "\n",
              "          const docLinkHtml = 'Like what you see? Visit the ' +\n",
              "            '<a target=\"_blank\" href=https://colab.research.google.com/notebooks/data_table.ipynb>data table notebook</a>'\n",
              "            + ' to learn more about interactive tables.';\n",
              "          element.innerHTML = '';\n",
              "          dataTable['output_type'] = 'display_data';\n",
              "          await google.colab.output.renderOutput(dataTable, element);\n",
              "          const docLink = document.createElement('div');\n",
              "          docLink.innerHTML = docLinkHtml;\n",
              "          element.appendChild(docLink);\n",
              "        }\n",
              "      </script>\n",
              "    </div>\n",
              "  </div>\n",
              "  "
            ]
          },
          "metadata": {},
          "execution_count": 26
        }
      ]
    },
    {
      "cell_type": "code",
      "source": [
        "df_estado.groupby('reg').count().sort_values(by = 'NU_INSCRICAO', ascending = False)"
      ],
      "metadata": {
        "colab": {
          "base_uri": "https://localhost:8080/",
          "height": 237
        },
        "id": "CmdHjdJUvTlW",
        "outputId": "62dc8182-64e5-40b1-ec54-86273913f6e1"
      },
      "id": "CmdHjdJUvTlW",
      "execution_count": 27,
      "outputs": [
        {
          "output_type": "execute_result",
          "data": {
            "text/plain": [
              "              NU_INSCRICAO  SG_UF_PROVA\n",
              "reg                                    \n",
              "NORDESTE            959926       959926\n",
              "SUDESTE             895047       895047\n",
              "SUL                 294915       294915\n",
              "NORTE               291168       291168\n",
              "CENTRO_OESTE        243997       243997"
            ],
            "text/html": [
              "\n",
              "  <div id=\"df-16ef1920-4319-4179-abe9-53f9aa73b655\">\n",
              "    <div class=\"colab-df-container\">\n",
              "      <div>\n",
              "<style scoped>\n",
              "    .dataframe tbody tr th:only-of-type {\n",
              "        vertical-align: middle;\n",
              "    }\n",
              "\n",
              "    .dataframe tbody tr th {\n",
              "        vertical-align: top;\n",
              "    }\n",
              "\n",
              "    .dataframe thead th {\n",
              "        text-align: right;\n",
              "    }\n",
              "</style>\n",
              "<table border=\"1\" class=\"dataframe\">\n",
              "  <thead>\n",
              "    <tr style=\"text-align: right;\">\n",
              "      <th></th>\n",
              "      <th>NU_INSCRICAO</th>\n",
              "      <th>SG_UF_PROVA</th>\n",
              "    </tr>\n",
              "    <tr>\n",
              "      <th>reg</th>\n",
              "      <th></th>\n",
              "      <th></th>\n",
              "    </tr>\n",
              "  </thead>\n",
              "  <tbody>\n",
              "    <tr>\n",
              "      <th>NORDESTE</th>\n",
              "      <td>959926</td>\n",
              "      <td>959926</td>\n",
              "    </tr>\n",
              "    <tr>\n",
              "      <th>SUDESTE</th>\n",
              "      <td>895047</td>\n",
              "      <td>895047</td>\n",
              "    </tr>\n",
              "    <tr>\n",
              "      <th>SUL</th>\n",
              "      <td>294915</td>\n",
              "      <td>294915</td>\n",
              "    </tr>\n",
              "    <tr>\n",
              "      <th>NORTE</th>\n",
              "      <td>291168</td>\n",
              "      <td>291168</td>\n",
              "    </tr>\n",
              "    <tr>\n",
              "      <th>CENTRO_OESTE</th>\n",
              "      <td>243997</td>\n",
              "      <td>243997</td>\n",
              "    </tr>\n",
              "  </tbody>\n",
              "</table>\n",
              "</div>\n",
              "      <button class=\"colab-df-convert\" onclick=\"convertToInteractive('df-16ef1920-4319-4179-abe9-53f9aa73b655')\"\n",
              "              title=\"Convert this dataframe to an interactive table.\"\n",
              "              style=\"display:none;\">\n",
              "        \n",
              "  <svg xmlns=\"http://www.w3.org/2000/svg\" height=\"24px\"viewBox=\"0 0 24 24\"\n",
              "       width=\"24px\">\n",
              "    <path d=\"M0 0h24v24H0V0z\" fill=\"none\"/>\n",
              "    <path d=\"M18.56 5.44l.94 2.06.94-2.06 2.06-.94-2.06-.94-.94-2.06-.94 2.06-2.06.94zm-11 1L8.5 8.5l.94-2.06 2.06-.94-2.06-.94L8.5 2.5l-.94 2.06-2.06.94zm10 10l.94 2.06.94-2.06 2.06-.94-2.06-.94-.94-2.06-.94 2.06-2.06.94z\"/><path d=\"M17.41 7.96l-1.37-1.37c-.4-.4-.92-.59-1.43-.59-.52 0-1.04.2-1.43.59L10.3 9.45l-7.72 7.72c-.78.78-.78 2.05 0 2.83L4 21.41c.39.39.9.59 1.41.59.51 0 1.02-.2 1.41-.59l7.78-7.78 2.81-2.81c.8-.78.8-2.07 0-2.86zM5.41 20L4 18.59l7.72-7.72 1.47 1.35L5.41 20z\"/>\n",
              "  </svg>\n",
              "      </button>\n",
              "      \n",
              "  <style>\n",
              "    .colab-df-container {\n",
              "      display:flex;\n",
              "      flex-wrap:wrap;\n",
              "      gap: 12px;\n",
              "    }\n",
              "\n",
              "    .colab-df-convert {\n",
              "      background-color: #E8F0FE;\n",
              "      border: none;\n",
              "      border-radius: 50%;\n",
              "      cursor: pointer;\n",
              "      display: none;\n",
              "      fill: #1967D2;\n",
              "      height: 32px;\n",
              "      padding: 0 0 0 0;\n",
              "      width: 32px;\n",
              "    }\n",
              "\n",
              "    .colab-df-convert:hover {\n",
              "      background-color: #E2EBFA;\n",
              "      box-shadow: 0px 1px 2px rgba(60, 64, 67, 0.3), 0px 1px 3px 1px rgba(60, 64, 67, 0.15);\n",
              "      fill: #174EA6;\n",
              "    }\n",
              "\n",
              "    [theme=dark] .colab-df-convert {\n",
              "      background-color: #3B4455;\n",
              "      fill: #D2E3FC;\n",
              "    }\n",
              "\n",
              "    [theme=dark] .colab-df-convert:hover {\n",
              "      background-color: #434B5C;\n",
              "      box-shadow: 0px 1px 3px 1px rgba(0, 0, 0, 0.15);\n",
              "      filter: drop-shadow(0px 1px 2px rgba(0, 0, 0, 0.3));\n",
              "      fill: #FFFFFF;\n",
              "    }\n",
              "  </style>\n",
              "\n",
              "      <script>\n",
              "        const buttonEl =\n",
              "          document.querySelector('#df-16ef1920-4319-4179-abe9-53f9aa73b655 button.colab-df-convert');\n",
              "        buttonEl.style.display =\n",
              "          google.colab.kernel.accessAllowed ? 'block' : 'none';\n",
              "\n",
              "        async function convertToInteractive(key) {\n",
              "          const element = document.querySelector('#df-16ef1920-4319-4179-abe9-53f9aa73b655');\n",
              "          const dataTable =\n",
              "            await google.colab.kernel.invokeFunction('convertToInteractive',\n",
              "                                                     [key], {});\n",
              "          if (!dataTable) return;\n",
              "\n",
              "          const docLinkHtml = 'Like what you see? Visit the ' +\n",
              "            '<a target=\"_blank\" href=https://colab.research.google.com/notebooks/data_table.ipynb>data table notebook</a>'\n",
              "            + ' to learn more about interactive tables.';\n",
              "          element.innerHTML = '';\n",
              "          dataTable['output_type'] = 'display_data';\n",
              "          await google.colab.output.renderOutput(dataTable, element);\n",
              "          const docLink = document.createElement('div');\n",
              "          docLink.innerHTML = docLinkHtml;\n",
              "          element.appendChild(docLink);\n",
              "        }\n",
              "      </script>\n",
              "    </div>\n",
              "  </div>\n",
              "  "
            ]
          },
          "metadata": {},
          "execution_count": 27
        }
      ]
    },
    {
      "cell_type": "code",
      "source": [
        "df_estado_plot = df_estado.groupby('reg').count().sort_values(by = 'NU_INSCRICAO', ascending = False)\n",
        "df_estado_plot.plot()"
      ],
      "metadata": {
        "colab": {
          "base_uri": "https://localhost:8080/",
          "height": 297
        },
        "id": "QYshSUQ6vToG",
        "outputId": "9b457b63-f154-4a5a-c070-9ab7fa7a0e1b"
      },
      "id": "QYshSUQ6vToG",
      "execution_count": 28,
      "outputs": [
        {
          "output_type": "execute_result",
          "data": {
            "text/plain": [
              "<matplotlib.axes._subplots.AxesSubplot at 0x7fdfbd1e7510>"
            ]
          },
          "metadata": {},
          "execution_count": 28
        },
        {
          "output_type": "display_data",
          "data": {
            "text/plain": [
              "<Figure size 432x288 with 1 Axes>"
            ],
            "image/png": "[encoded data removed]"
          },
          "metadata": {
            "needs_background": "light"
          }
        }
      ]
    },
    {
      "cell_type": "markdown",
      "source": [
        "#### Na análise de localidade, visualizamos que:\n",
        "\n",
        "- A tendencia os estados com mais numeros de candidatos foram SP E MG que realmente já possui essa marca de longos anos.\n",
        "- Mesmo o Sudeste tendo os maiores colegios, a região que mais obteve candidatos foi o nordeste."
      ],
      "metadata": {
        "id": "mxoSfttZ9OsG"
      },
      "id": "mxoSfttZ9OsG"
    },
    {
      "cell_type": "markdown",
      "source": [
        "#### Limpeza dos dados\n",
        "\n",
        "- Com a intenção de realizar análises mais robustas, será necessário fazer uma limpeza e manipulação de dados.\n",
        "- Primeiro com uma função que drop as colunas com mais de 50% dos dados faltantes."
      ],
      "metadata": {
        "id": "1LPtdr5YI38v"
      },
      "id": "1LPtdr5YI38v"
    },
    {
      "cell_type": "code",
      "source": [
        "#Valores nulos \n",
        "#Inicializar limpeza\n",
        "df.isnull().sum()/df.shape[0]*100"
      ],
      "metadata": {
        "id": "eJyupaBUVMTC",
        "colab": {
          "base_uri": "https://localhost:8080/"
        },
        "outputId": "074de72b-bb4b-4685-8433-a71d7a5b4c25"
      },
      "id": "eJyupaBUVMTC",
      "execution_count": 29,
      "outputs": [
        {
          "output_type": "execute_result",
          "data": {
            "text/plain": [
              "TP_FAIXA_ETARIA            0.000000\n",
              "TP_SEXO                    0.000000\n",
              "TP_ESTADO_CIVIL            0.000000\n",
              "TP_COR_RACA                0.000000\n",
              "TP_NACIONALIDADE           0.000000\n",
              "TP_ST_CONCLUSAO            0.000000\n",
              "TP_ANO_CONCLUIU            0.000000\n",
              "TP_ESCOLA                  0.000000\n",
              "TP_ENSINO                 63.452565\n",
              "IN_TREINEIRO               0.000000\n",
              "CO_MUNICIPIO_ESC          73.173341\n",
              "NO_MUNICIPIO_ESC          73.173341\n",
              "CO_UF_ESC                 73.173341\n",
              "SG_UF_ESC                 73.173341\n",
              "TP_DEPENDENCIA_ADM_ESC    73.173341\n",
              "TP_LOCALIZACAO_ESC        73.173341\n",
              "TP_SIT_FUNC_ESC           73.173341\n",
              "CO_MUNICIPIO_PROVA         0.000000\n",
              "NO_MUNICIPIO_PROVA         0.000000\n",
              "CO_UF_PROVA                0.000000\n",
              "SG_UF_PROVA                0.000000\n",
              "TP_PRESENCA_CN             0.000000\n",
              "TP_PRESENCA_CH             0.000000\n",
              "TP_PRESENCA_LC             0.000000\n",
              "TP_PRESENCA_MT             0.000000\n",
              "CO_PROVA_CN               27.721985\n",
              "CO_PROVA_CH               23.957814\n",
              "CO_PROVA_LC               23.957814\n",
              "CO_PROVA_MT               27.721985\n",
              "NU_NOTA_CN                27.721985\n",
              "NU_NOTA_CH                23.957814\n",
              "NU_NOTA_LC                23.957814\n",
              "NU_NOTA_MT                27.721985\n",
              "TX_RESPOSTAS_CN           27.721985\n",
              "TX_RESPOSTAS_CH           23.957814\n",
              "TX_RESPOSTAS_LC           23.957814\n",
              "TX_RESPOSTAS_MT           27.721985\n",
              "TP_LINGUA                  0.000000\n",
              "TX_GABARITO_CN            27.721985\n",
              "TX_GABARITO_CH            23.957814\n",
              "TX_GABARITO_LC            23.957814\n",
              "TX_GABARITO_MT            27.721985\n",
              "TP_STATUS_REDACAO         23.957814\n",
              "NU_NOTA_COMP1             23.957814\n",
              "NU_NOTA_COMP2             23.957814\n",
              "NU_NOTA_COMP3             23.957814\n",
              "NU_NOTA_COMP4             23.957814\n",
              "NU_NOTA_COMP5             23.957814\n",
              "NU_NOTA_REDACAO           23.957814\n",
              "dtype: float64"
            ]
          },
          "metadata": {},
          "execution_count": 29
        }
      ]
    },
    {
      "cell_type": "code",
      "source": [
        "def Preprocessamento(df):\n",
        "    df_nv = df.copy()\n",
        "    trat1 = (df.isnull().sum()/df.shape[0])>=0.6\n",
        "    var_drop = trat1.loc[trat1==True].index.tolist()\n",
        "    \n",
        "    for x in var_drop:\n",
        "        df_nv = df_nv.drop(x,axis=1)\n",
        "\n",
        "    return df_nv"
      ],
      "metadata": {
        "id": "pJz1pWPJTHS4"
      },
      "id": "pJz1pWPJTHS4",
      "execution_count": 47,
      "outputs": []
    },
    {
      "cell_type": "code",
      "source": [
        "df_nv =  Preprocessamento(df = df)"
      ],
      "metadata": {
        "id": "OoLd1yp9Jzmp"
      },
      "id": "OoLd1yp9Jzmp",
      "execution_count": 48,
      "outputs": []
    },
    {
      "cell_type": "code",
      "source": [
        "df_nv.head()"
      ],
      "metadata": {
        "colab": {
          "base_uri": "https://localhost:8080/",
          "height": 299
        },
        "id": "SICa8DkSKFvM",
        "outputId": "17752ed3-2835-46e1-a5e2-102143269549"
      },
      "id": "SICa8DkSKFvM",
      "execution_count": 49,
      "outputs": [
        {
          "output_type": "execute_result",
          "data": {
            "text/plain": [
              "   TP_FAIXA_ETARIA TP_SEXO  TP_ESTADO_CIVIL  TP_COR_RACA  TP_NACIONALIDADE  \\\n",
              "0                5       F                1            1                 1   \n",
              "1               12       M                1            1                 1   \n",
              "2               13       F                3            1                 1   \n",
              "3                3       M                1            3                 1   \n",
              "4                2       F                1            3                 1   \n",
              "\n",
              "   TP_ST_CONCLUSAO  TP_ANO_CONCLUIU  TP_ESCOLA  IN_TREINEIRO  \\\n",
              "0                1                3          1             0   \n",
              "1                1               11          1             0   \n",
              "2                1               15          1             0   \n",
              "3                2                0          2             0   \n",
              "4                2                0          2             0   \n",
              "\n",
              "   CO_MUNICIPIO_PROVA  ...                                 TX_GABARITO_CH  \\\n",
              "0             3144805  ...  BEECCAEABADBCAEBAAEEDDEBBBADBCBAAEEBBBADCCBBA   \n",
              "1             2704302  ...  EBAAEADBCACBBABEECBAAEEBBBADCBADBCEDDEBBCAEAB   \n",
              "2             3515707  ...                                            NaN   \n",
              "3             2304202  ...  BBBAAEECBBABEECEBAAEADBCACAEABEDDEBBBADBCBADC   \n",
              "4             2300150  ...  EBAAEADBCACBBABEECBAAEEBBBADCBADBCEDDEBBCAEAB   \n",
              "\n",
              "                                      TX_GABARITO_LC  \\\n",
              "0  ABBACAAECACDBDDADEBDDCBDCEDBEDDBBBBDCEEAADABAC...   \n",
              "1  ACABBACAEADCEADABDACDCEABDDADBEDDDEBBACCDDDCCE...   \n",
              "2                                                NaN   \n",
              "3  ABBCAEAACADDCACDCADABBBBDEBBACEADCEBDDACEEDDDB...   \n",
              "4  ACABBACAEADCEADABDACDCEABDDADBEDDDEBBACCDDDCCE...   \n",
              "\n",
              "                                  TX_GABARITO_MT  TP_STATUS_REDACAO  \\\n",
              "0                                            NaN                1.0   \n",
              "1  DCCAEBABDDCABEECCBCCEXADDCEECDEBADCABBDBDEDCE                1.0   \n",
              "2                                            NaN                NaN   \n",
              "3  ECCCABBDBDDDCEDDCABXEEEBABEDCEDCCAEBADBCCECDA                1.0   \n",
              "4  DCCAEBABDDCABEECCBCCEXADDCEECDEBADCABBDBDEDCE                1.0   \n",
              "\n",
              "   NU_NOTA_COMP1  NU_NOTA_COMP2  NU_NOTA_COMP3  NU_NOTA_COMP4  NU_NOTA_COMP5  \\\n",
              "0          140.0          120.0          120.0          180.0          200.0   \n",
              "1          120.0          120.0          120.0          120.0           80.0   \n",
              "2            NaN            NaN            NaN            NaN            NaN   \n",
              "3          120.0          180.0          120.0          200.0          160.0   \n",
              "4          120.0          140.0          160.0          180.0          180.0   \n",
              "\n",
              "   NU_NOTA_REDACAO  \n",
              "0            760.0  \n",
              "1            560.0  \n",
              "2              NaN  \n",
              "3            780.0  \n",
              "4            780.0  \n",
              "\n",
              "[5 rows x 41 columns]"
            ],
            "text/html": [
              "\n",
              "  <div id=\"df-f9aa1bc4-7cac-4353-bad0-c93e08bddc8e\">\n",
              "    <div class=\"colab-df-container\">\n",
              "      <div>\n",
              "<style scoped>\n",
              "    .dataframe tbody tr th:only-of-type {\n",
              "        vertical-align: middle;\n",
              "    }\n",
              "\n",
              "    .dataframe tbody tr th {\n",
              "        vertical-align: top;\n",
              "    }\n",
              "\n",
              "    .dataframe thead th {\n",
              "        text-align: right;\n",
              "    }\n",
              "</style>\n",
              "<table border=\"1\" class=\"dataframe\">\n",
              "  <thead>\n",
              "    <tr style=\"text-align: right;\">\n",
              "      <th></th>\n",
              "      <th>TP_FAIXA_ETARIA</th>\n",
              "      <th>TP_SEXO</th>\n",
              "      <th>TP_ESTADO_CIVIL</th>\n",
              "      <th>TP_COR_RACA</th>\n",
              "      <th>TP_NACIONALIDADE</th>\n",
              "      <th>TP_ST_CONCLUSAO</th>\n",
              "      <th>TP_ANO_CONCLUIU</th>\n",
              "      <th>TP_ESCOLA</th>\n",
              "      <th>IN_TREINEIRO</th>\n",
              "      <th>CO_MUNICIPIO_PROVA</th>\n",
              "      <th>...</th>\n",
              "      <th>TX_GABARITO_CH</th>\n",
              "      <th>TX_GABARITO_LC</th>\n",
              "      <th>TX_GABARITO_MT</th>\n",
              "      <th>TP_STATUS_REDACAO</th>\n",
              "      <th>NU_NOTA_COMP1</th>\n",
              "      <th>NU_NOTA_COMP2</th>\n",
              "      <th>NU_NOTA_COMP3</th>\n",
              "      <th>NU_NOTA_COMP4</th>\n",
              "      <th>NU_NOTA_COMP5</th>\n",
              "      <th>NU_NOTA_REDACAO</th>\n",
              "    </tr>\n",
              "  </thead>\n",
              "  <tbody>\n",
              "    <tr>\n",
              "      <th>0</th>\n",
              "      <td>5</td>\n",
              "      <td>F</td>\n",
              "      <td>1</td>\n",
              "      <td>1</td>\n",
              "      <td>1</td>\n",
              "      <td>1</td>\n",
              "      <td>3</td>\n",
              "      <td>1</td>\n",
              "      <td>0</td>\n",
              "      <td>3144805</td>\n",
              "      <td>...</td>\n",
              "      <td>BEECCAEABADBCAEBAAEEDDEBBBADBCBAAEEBBBADCCBBA</td>\n",
              "      <td>ABBACAAECACDBDDADEBDDCBDCEDBEDDBBBBDCEEAADABAC...</td>\n",
              "      <td>NaN</td>\n",
              "      <td>1.0</td>\n",
              "      <td>140.0</td>\n",
              "      <td>120.0</td>\n",
              "      <td>120.0</td>\n",
              "      <td>180.0</td>\n",
              "      <td>200.0</td>\n",
              "      <td>760.0</td>\n",
              "    </tr>\n",
              "    <tr>\n",
              "      <th>1</th>\n",
              "      <td>12</td>\n",
              "      <td>M</td>\n",
              "      <td>1</td>\n",
              "      <td>1</td>\n",
              "      <td>1</td>\n",
              "      <td>1</td>\n",
              "      <td>11</td>\n",
              "      <td>1</td>\n",
              "      <td>0</td>\n",
              "      <td>2704302</td>\n",
              "      <td>...</td>\n",
              "      <td>EBAAEADBCACBBABEECBAAEEBBBADCBADBCEDDEBBCAEAB</td>\n",
              "      <td>ACABBACAEADCEADABDACDCEABDDADBEDDDEBBACCDDDCCE...</td>\n",
              "      <td>DCCAEBABDDCABEECCBCCEXADDCEECDEBADCABBDBDEDCE</td>\n",
              "      <td>1.0</td>\n",
              "      <td>120.0</td>\n",
              "      <td>120.0</td>\n",
              "      <td>120.0</td>\n",
              "      <td>120.0</td>\n",
              "      <td>80.0</td>\n",
              "      <td>560.0</td>\n",
              "    </tr>\n",
              "    <tr>\n",
              "      <th>2</th>\n",
              "      <td>13</td>\n",
              "      <td>F</td>\n",
              "      <td>3</td>\n",
              "      <td>1</td>\n",
              "      <td>1</td>\n",
              "      <td>1</td>\n",
              "      <td>15</td>\n",
              "      <td>1</td>\n",
              "      <td>0</td>\n",
              "      <td>3515707</td>\n",
              "      <td>...</td>\n",
              "      <td>NaN</td>\n",
              "      <td>NaN</td>\n",
              "      <td>NaN</td>\n",
              "      <td>NaN</td>\n",
              "      <td>NaN</td>\n",
              "      <td>NaN</td>\n",
              "      <td>NaN</td>\n",
              "      <td>NaN</td>\n",
              "      <td>NaN</td>\n",
              "      <td>NaN</td>\n",
              "    </tr>\n",
              "    <tr>\n",
              "      <th>3</th>\n",
              "      <td>3</td>\n",
              "      <td>M</td>\n",
              "      <td>1</td>\n",
              "      <td>3</td>\n",
              "      <td>1</td>\n",
              "      <td>2</td>\n",
              "      <td>0</td>\n",
              "      <td>2</td>\n",
              "      <td>0</td>\n",
              "      <td>2304202</td>\n",
              "      <td>...</td>\n",
              "      <td>BBBAAEECBBABEECEBAAEADBCACAEABEDDEBBBADBCBADC</td>\n",
              "      <td>ABBCAEAACADDCACDCADABBBBDEBBACEADCEBDDACEEDDDB...</td>\n",
              "      <td>ECCCABBDBDDDCEDDCABXEEEBABEDCEDCCAEBADBCCECDA</td>\n",
              "      <td>1.0</td>\n",
              "      <td>120.0</td>\n",
              "      <td>180.0</td>\n",
              "      <td>120.0</td>\n",
              "      <td>200.0</td>\n",
              "      <td>160.0</td>\n",
              "      <td>780.0</td>\n",
              "    </tr>\n",
              "    <tr>\n",
              "      <th>4</th>\n",
              "      <td>2</td>\n",
              "      <td>F</td>\n",
              "      <td>1</td>\n",
              "      <td>3</td>\n",
              "      <td>1</td>\n",
              "      <td>2</td>\n",
              "      <td>0</td>\n",
              "      <td>2</td>\n",
              "      <td>0</td>\n",
              "      <td>2300150</td>\n",
              "      <td>...</td>\n",
              "      <td>EBAAEADBCACBBABEECBAAEEBBBADCBADBCEDDEBBCAEAB</td>\n",
              "      <td>ACABBACAEADCEADABDACDCEABDDADBEDDDEBBACCDDDCCE...</td>\n",
              "      <td>DCCAEBABDDCABEECCBCCEXADDCEECDEBADCABBDBDEDCE</td>\n",
              "      <td>1.0</td>\n",
              "      <td>120.0</td>\n",
              "      <td>140.0</td>\n",
              "      <td>160.0</td>\n",
              "      <td>180.0</td>\n",
              "      <td>180.0</td>\n",
              "      <td>780.0</td>\n",
              "    </tr>\n",
              "  </tbody>\n",
              "</table>\n",
              "<p>5 rows × 41 columns</p>\n",
              "</div>\n",
              "      <button class=\"colab-df-convert\" onclick=\"convertToInteractive('df-f9aa1bc4-7cac-4353-bad0-c93e08bddc8e')\"\n",
              "              title=\"Convert this dataframe to an interactive table.\"\n",
              "              style=\"display:none;\">\n",
              "        \n",
              "  <svg xmlns=\"http://www.w3.org/2000/svg\" height=\"24px\"viewBox=\"0 0 24 24\"\n",
              "       width=\"24px\">\n",
              "    <path d=\"M0 0h24v24H0V0z\" fill=\"none\"/>\n",
              "    <path d=\"M18.56 5.44l.94 2.06.94-2.06 2.06-.94-2.06-.94-.94-2.06-.94 2.06-2.06.94zm-11 1L8.5 8.5l.94-2.06 2.06-.94-2.06-.94L8.5 2.5l-.94 2.06-2.06.94zm10 10l.94 2.06.94-2.06 2.06-.94-2.06-.94-.94-2.06-.94 2.06-2.06.94z\"/><path d=\"M17.41 7.96l-1.37-1.37c-.4-.4-.92-.59-1.43-.59-.52 0-1.04.2-1.43.59L10.3 9.45l-7.72 7.72c-.78.78-.78 2.05 0 2.83L4 21.41c.39.39.9.59 1.41.59.51 0 1.02-.2 1.41-.59l7.78-7.78 2.81-2.81c.8-.78.8-2.07 0-2.86zM5.41 20L4 18.59l7.72-7.72 1.47 1.35L5.41 20z\"/>\n",
              "  </svg>\n",
              "      </button>\n",
              "      \n",
              "  <style>\n",
              "    .colab-df-container {\n",
              "      display:flex;\n",
              "      flex-wrap:wrap;\n",
              "      gap: 12px;\n",
              "    }\n",
              "\n",
              "    .colab-df-convert {\n",
              "      background-color: #E8F0FE;\n",
              "      border: none;\n",
              "      border-radius: 50%;\n",
              "      cursor: pointer;\n",
              "      display: none;\n",
              "      fill: #1967D2;\n",
              "      height: 32px;\n",
              "      padding: 0 0 0 0;\n",
              "      width: 32px;\n",
              "    }\n",
              "\n",
              "    .colab-df-convert:hover {\n",
              "      background-color: #E2EBFA;\n",
              "      box-shadow: 0px 1px 2px rgba(60, 64, 67, 0.3), 0px 1px 3px 1px rgba(60, 64, 67, 0.15);\n",
              "      fill: #174EA6;\n",
              "    }\n",
              "\n",
              "    [theme=dark] .colab-df-convert {\n",
              "      background-color: #3B4455;\n",
              "      fill: #D2E3FC;\n",
              "    }\n",
              "\n",
              "    [theme=dark] .colab-df-convert:hover {\n",
              "      background-color: #434B5C;\n",
              "      box-shadow: 0px 1px 3px 1px rgba(0, 0, 0, 0.15);\n",
              "      filter: drop-shadow(0px 1px 2px rgba(0, 0, 0, 0.3));\n",
              "      fill: #FFFFFF;\n",
              "    }\n",
              "  </style>\n",
              "\n",
              "      <script>\n",
              "        const buttonEl =\n",
              "          document.querySelector('#df-f9aa1bc4-7cac-4353-bad0-c93e08bddc8e button.colab-df-convert');\n",
              "        buttonEl.style.display =\n",
              "          google.colab.kernel.accessAllowed ? 'block' : 'none';\n",
              "\n",
              "        async function convertToInteractive(key) {\n",
              "          const element = document.querySelector('#df-f9aa1bc4-7cac-4353-bad0-c93e08bddc8e');\n",
              "          const dataTable =\n",
              "            await google.colab.kernel.invokeFunction('convertToInteractive',\n",
              "                                                     [key], {});\n",
              "          if (!dataTable) return;\n",
              "\n",
              "          const docLinkHtml = 'Like what you see? Visit the ' +\n",
              "            '<a target=\"_blank\" href=https://colab.research.google.com/notebooks/data_table.ipynb>data table notebook</a>'\n",
              "            + ' to learn more about interactive tables.';\n",
              "          element.innerHTML = '';\n",
              "          dataTable['output_type'] = 'display_data';\n",
              "          await google.colab.output.renderOutput(dataTable, element);\n",
              "          const docLink = document.createElement('div');\n",
              "          docLink.innerHTML = docLinkHtml;\n",
              "          element.appendChild(docLink);\n",
              "        }\n",
              "      </script>\n",
              "    </div>\n",
              "  </div>\n",
              "  "
            ]
          },
          "metadata": {},
          "execution_count": 49
        }
      ]
    },
    {
      "cell_type": "code",
      "source": [
        "nulos = df_nv.isnull().sum()[df_nv.isnull().sum()>0].sort_values(ascending = False)\n",
        "nulos/df_nv.shape[0]*100"
      ],
      "metadata": {
        "colab": {
          "base_uri": "https://localhost:8080/"
        },
        "id": "7qYyoWjQOKkm",
        "outputId": "0e19ac1d-5f28-4aa4-b818-1a8c644b40cd"
      },
      "id": "7qYyoWjQOKkm",
      "execution_count": 50,
      "outputs": [
        {
          "output_type": "execute_result",
          "data": {
            "text/plain": [
              "CO_PROVA_CN          27.721985\n",
              "NU_NOTA_MT           27.721985\n",
              "TX_GABARITO_MT       27.721985\n",
              "TX_GABARITO_CN       27.721985\n",
              "TX_RESPOSTAS_CN      27.721985\n",
              "TX_RESPOSTAS_MT      27.721985\n",
              "NU_NOTA_CN           27.721985\n",
              "CO_PROVA_MT          27.721985\n",
              "NU_NOTA_LC           23.957814\n",
              "TP_STATUS_REDACAO    23.957814\n",
              "NU_NOTA_COMP5        23.957814\n",
              "NU_NOTA_COMP4        23.957814\n",
              "NU_NOTA_COMP3        23.957814\n",
              "NU_NOTA_COMP2        23.957814\n",
              "NU_NOTA_COMP1        23.957814\n",
              "TX_GABARITO_LC       23.957814\n",
              "CO_PROVA_LC          23.957814\n",
              "NU_NOTA_CH           23.957814\n",
              "TX_GABARITO_CH       23.957814\n",
              "CO_PROVA_CH          23.957814\n",
              "TX_RESPOSTAS_LC      23.957814\n",
              "TX_RESPOSTAS_CH      23.957814\n",
              "NU_NOTA_REDACAO      23.957814\n",
              "dtype: float64"
            ]
          },
          "metadata": {},
          "execution_count": 50
        }
      ]
    },
    {
      "cell_type": "code",
      "source": [
        ""
      ],
      "metadata": {
        "id": "McB6bWstO3HB"
      },
      "id": "McB6bWstO3HB",
      "execution_count": null,
      "outputs": []
    }
  ],
  "metadata": {
    "kernelspec": {
      "display_name": "Python 3 (ipykernel)",
      "language": "python",
      "name": "python3"
    },
    "language_info": {
      "codemirror_mode": {
        "name": "ipython",
        "version": 3
      },
      "file_extension": ".py",
      "mimetype": "text/x-python",
      "name": "python",
      "nbconvert_exporter": "python",
      "pygments_lexer": "ipython3",
      "version": "3.9.12"
    },
    "colab": {
      "name": "Análise_Enem2021.ipynb",
      "provenance": [],
      "collapsed_sections": [],
      "include_colab_link": true
    }
  },
  "nbformat": 4,
  "nbformat_minor": 5
}